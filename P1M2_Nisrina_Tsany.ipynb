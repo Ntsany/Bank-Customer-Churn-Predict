{
 "cells": [
  {
   "attachments": {},
   "cell_type": "markdown",
   "metadata": {},
   "source": [
    "### i. INTRODUCTION"
   ]
  },
  {
   "attachments": {},
   "cell_type": "markdown",
   "metadata": {},
   "source": [
    "Name : Nisrina Tsany Sulthanah\n",
    "\n",
    "Batch : FTDS - RMT038\n",
    "\n",
    "**Dataset Description :** The dataset used in this analysis, named Churn_Modelling.csv, consists of customer-related information from a bank. This data is structured to help identify factors influencing customer churn, where churn refers to customers leaving the bank's services.\n",
    "- Dataset Size: 10,000 rows (customers) and 14 columns\n",
    "- About the column :\n",
    "    - RowNumber, CustomerId, Surname: Identification-related features. These were not included in the model training but retained for referencing customer identity in the final predictions (they're just like unique value)\n",
    "    - CreditScore: Customer's credit score\n",
    "    - Geography: Customer's country (France, Spain, Germany)\n",
    "    - Gender: Male or Female\n",
    "    - Age: Customer's age\n",
    "    - Tenure: Number of years the customer has been with the bank\n",
    "    - Balance: Customer's account balance\n",
    "    - NumOfProducts: Number of products (e.g., loans, savings) the customer uses\n",
    "    - HasCreditCard: Binary indicator (1 = Yes, 0 = No) of whether the customer has a credit card\n",
    "    - IsActiveMember: Binary indicator (1 = Active, 0 = Inactive) of whether the customer is an active bank member\n",
    "    - EstimatedSalary: Customer's estimated annual salary\n",
    "    - Exited: Used as target variable (1 = Churned, 0 = Retained)\n",
    "- url dataset = https://www.kaggle.com/datasets/saurabhbadole/bank-customer-churn-prediction-dataset\n",
    "\n",
    "**Background :** In the competitive banking industry, maintaining customer loyalty is challenging due to evolving expectations and attractive offers from competitors. Customer churn leads to significant financial losses and can harm the bank's reputation. Churn often happens due to dissatisfaction with services, high fees, or better offerings elsewhere. A data-driven predictive model can identify at-risk customers early, enabling the bank to take proactive actions like personalized offers, improved support, and enhanced engagement programs to retain customers and minimize churn.\n",
    "\n",
    "**Objectives :** \n",
    "- To build an effective machine learning model to accurately predict customer churn (customers who are likely to leave the bank). By predicting churn early, the bank can proactively improve retention strategies. Five models were used: KNN, SVC, Decision Tree, Random Forest, and XGBoost, chosen for their ability to handle diverse data and provide accurate predictions.\n",
    "- The F1 Score was selected as the main metric because it balances precision and recall, making it ideal for imbalanced datasets like churn prediction. Cross-validation was used to calculate the mean and standard deviation of the F1 Score, ensuring model robustness.\n",
    "- To address class imbalance, SMOTE was applied, and hyperparameter tuning was done using GridSearchCV, focusing on the XGBoost model for optimal performance.\n",
    "- The model and insights are intended for bank management teams responsible for customer retention strategies, marketing teams, and business analysts"
   ]
  },
  {
   "attachments": {},
   "cell_type": "markdown",
   "metadata": {},
   "source": [
    "### ii. IMPORT LIBRARIES"
   ]
  },
  {
   "cell_type": "code",
   "execution_count": 1,
   "metadata": {},
   "outputs": [],
   "source": [
    "# Import necessary libraries\n",
    "import pandas as pd\n",
    "import numpy as np\n",
    "import matplotlib.pyplot as plt\n",
    "import seaborn as sns\n",
    "import plotly.express as px\n",
    "from scipy import stats\n",
    "from scipy.stats import f_oneway, pointbiserialr\n",
    "from sklearn.feature_selection import mutual_info_classif\n",
    "from imblearn.over_sampling import SMOTE\n",
    "from imblearn.pipeline import Pipeline as ImbPipeline\n",
    "from sklearn.metrics import make_scorer\n",
    "from scipy.stats import zscore\n",
    "from sklearn.impute import SimpleImputer\n",
    "from sklearn.model_selection import train_test_split, cross_validate, GridSearchCV\n",
    "from sklearn.preprocessing import StandardScaler, OrdinalEncoder, LabelEncoder, MinMaxScaler, OneHotEncoder, FunctionTransformer\n",
    "from sklearn.metrics import classification_report\n",
    "from sklearn.neighbors import KNeighborsClassifier\n",
    "from sklearn.svm import SVC\n",
    "from sklearn.tree import DecisionTreeClassifier\n",
    "from sklearn.ensemble import RandomForestClassifier\n",
    "from xgboost import XGBClassifier\n",
    "from sklearn.metrics import accuracy_score, f1_score, confusion_matrix\n",
    "from sklearn.pipeline import Pipeline\n",
    "from sklearn.compose import ColumnTransformer\n",
    "from sklearn.base import BaseEstimator, TransformerMixin\n",
    "import cloudpickle\n",
    "import json\n",
    "import warnings\n",
    "warnings.filterwarnings('ignore', category=UserWarning)"
   ]
  },
  {
   "attachments": {},
   "cell_type": "markdown",
   "metadata": {},
   "source": [
    "### iii. DATA LOADING"
   ]
  },
  {
   "attachments": {},
   "cell_type": "markdown",
   "metadata": {},
   "source": [
    "Load the data from csv file and save it as df. Then, display the head of the data."
   ]
  },
  {
   "cell_type": "code",
   "execution_count": 2,
   "metadata": {},
   "outputs": [
    {
     "data": {
      "text/html": [
       "<div>\n",
       "<style scoped>\n",
       "    .dataframe tbody tr th:only-of-type {\n",
       "        vertical-align: middle;\n",
       "    }\n",
       "\n",
       "    .dataframe tbody tr th {\n",
       "        vertical-align: top;\n",
       "    }\n",
       "\n",
       "    .dataframe thead th {\n",
       "        text-align: right;\n",
       "    }\n",
       "</style>\n",
       "<table border=\"1\" class=\"dataframe\">\n",
       "  <thead>\n",
       "    <tr style=\"text-align: right;\">\n",
       "      <th></th>\n",
       "      <th>RowNumber</th>\n",
       "      <th>CustomerId</th>\n",
       "      <th>Surname</th>\n",
       "      <th>CreditScore</th>\n",
       "      <th>Geography</th>\n",
       "      <th>Gender</th>\n",
       "      <th>Age</th>\n",
       "      <th>Tenure</th>\n",
       "      <th>Balance</th>\n",
       "      <th>NumOfProducts</th>\n",
       "      <th>HasCrCard</th>\n",
       "      <th>IsActiveMember</th>\n",
       "      <th>EstimatedSalary</th>\n",
       "      <th>Exited</th>\n",
       "    </tr>\n",
       "  </thead>\n",
       "  <tbody>\n",
       "    <tr>\n",
       "      <th>0</th>\n",
       "      <td>1</td>\n",
       "      <td>15634602</td>\n",
       "      <td>Hargrave</td>\n",
       "      <td>619</td>\n",
       "      <td>France</td>\n",
       "      <td>Female</td>\n",
       "      <td>42</td>\n",
       "      <td>2</td>\n",
       "      <td>0.00</td>\n",
       "      <td>1</td>\n",
       "      <td>1</td>\n",
       "      <td>1</td>\n",
       "      <td>101348.88</td>\n",
       "      <td>1</td>\n",
       "    </tr>\n",
       "    <tr>\n",
       "      <th>1</th>\n",
       "      <td>2</td>\n",
       "      <td>15647311</td>\n",
       "      <td>Hill</td>\n",
       "      <td>608</td>\n",
       "      <td>Spain</td>\n",
       "      <td>Female</td>\n",
       "      <td>41</td>\n",
       "      <td>1</td>\n",
       "      <td>83807.86</td>\n",
       "      <td>1</td>\n",
       "      <td>0</td>\n",
       "      <td>1</td>\n",
       "      <td>112542.58</td>\n",
       "      <td>0</td>\n",
       "    </tr>\n",
       "    <tr>\n",
       "      <th>2</th>\n",
       "      <td>3</td>\n",
       "      <td>15619304</td>\n",
       "      <td>Onio</td>\n",
       "      <td>502</td>\n",
       "      <td>France</td>\n",
       "      <td>Female</td>\n",
       "      <td>42</td>\n",
       "      <td>8</td>\n",
       "      <td>159660.80</td>\n",
       "      <td>3</td>\n",
       "      <td>1</td>\n",
       "      <td>0</td>\n",
       "      <td>113931.57</td>\n",
       "      <td>1</td>\n",
       "    </tr>\n",
       "    <tr>\n",
       "      <th>3</th>\n",
       "      <td>4</td>\n",
       "      <td>15701354</td>\n",
       "      <td>Boni</td>\n",
       "      <td>699</td>\n",
       "      <td>France</td>\n",
       "      <td>Female</td>\n",
       "      <td>39</td>\n",
       "      <td>1</td>\n",
       "      <td>0.00</td>\n",
       "      <td>2</td>\n",
       "      <td>0</td>\n",
       "      <td>0</td>\n",
       "      <td>93826.63</td>\n",
       "      <td>0</td>\n",
       "    </tr>\n",
       "    <tr>\n",
       "      <th>4</th>\n",
       "      <td>5</td>\n",
       "      <td>15737888</td>\n",
       "      <td>Mitchell</td>\n",
       "      <td>850</td>\n",
       "      <td>Spain</td>\n",
       "      <td>Female</td>\n",
       "      <td>43</td>\n",
       "      <td>2</td>\n",
       "      <td>125510.82</td>\n",
       "      <td>1</td>\n",
       "      <td>1</td>\n",
       "      <td>1</td>\n",
       "      <td>79084.10</td>\n",
       "      <td>0</td>\n",
       "    </tr>\n",
       "  </tbody>\n",
       "</table>\n",
       "</div>"
      ],
      "text/plain": [
       "   RowNumber  CustomerId   Surname  CreditScore Geography  Gender  Age  \\\n",
       "0          1    15634602  Hargrave          619    France  Female   42   \n",
       "1          2    15647311      Hill          608     Spain  Female   41   \n",
       "2          3    15619304      Onio          502    France  Female   42   \n",
       "3          4    15701354      Boni          699    France  Female   39   \n",
       "4          5    15737888  Mitchell          850     Spain  Female   43   \n",
       "\n",
       "   Tenure    Balance  NumOfProducts  HasCrCard  IsActiveMember  \\\n",
       "0       2       0.00              1          1               1   \n",
       "1       1   83807.86              1          0               1   \n",
       "2       8  159660.80              3          1               0   \n",
       "3       1       0.00              2          0               0   \n",
       "4       2  125510.82              1          1               1   \n",
       "\n",
       "   EstimatedSalary  Exited  \n",
       "0        101348.88       1  \n",
       "1        112542.58       0  \n",
       "2        113931.57       1  \n",
       "3         93826.63       0  \n",
       "4         79084.10       0  "
      ]
     },
     "execution_count": 2,
     "metadata": {},
     "output_type": "execute_result"
    }
   ],
   "source": [
    "# Load dataset\n",
    "df = pd.read_csv('Churn_Modelling.csv')  \n",
    "df.head()\n"
   ]
  },
  {
   "attachments": {},
   "cell_type": "markdown",
   "metadata": {},
   "source": [
    "From the dataset table, it can be seen that there are columns containing what I mentioned in the dataset description in the introduction section. Then, check the info from the dataset."
   ]
  },
  {
   "cell_type": "code",
   "execution_count": 3,
   "metadata": {},
   "outputs": [
    {
     "name": "stdout",
     "output_type": "stream",
     "text": [
      "<class 'pandas.core.frame.DataFrame'>\n",
      "RangeIndex: 10000 entries, 0 to 9999\n",
      "Data columns (total 14 columns):\n",
      " #   Column           Non-Null Count  Dtype  \n",
      "---  ------           --------------  -----  \n",
      " 0   RowNumber        10000 non-null  int64  \n",
      " 1   CustomerId       10000 non-null  int64  \n",
      " 2   Surname          10000 non-null  object \n",
      " 3   CreditScore      10000 non-null  int64  \n",
      " 4   Geography        10000 non-null  object \n",
      " 5   Gender           10000 non-null  object \n",
      " 6   Age              10000 non-null  int64  \n",
      " 7   Tenure           10000 non-null  int64  \n",
      " 8   Balance          10000 non-null  float64\n",
      " 9   NumOfProducts    10000 non-null  int64  \n",
      " 10  HasCrCard        10000 non-null  int64  \n",
      " 11  IsActiveMember   10000 non-null  int64  \n",
      " 12  EstimatedSalary  10000 non-null  float64\n",
      " 13  Exited           10000 non-null  int64  \n",
      "dtypes: float64(2), int64(9), object(3)\n",
      "memory usage: 1.1+ MB\n"
     ]
    }
   ],
   "source": [
    "#Check dataset\n",
    "df.info()"
   ]
  },
  {
   "attachments": {},
   "cell_type": "markdown",
   "metadata": {},
   "source": [
    "There we can see the names of the columns in the dataset where there are no missing values ​​and what the data type for each column is, which corresponds to the contents of each column. Then, check the basic statistic of dataset."
   ]
  },
  {
   "cell_type": "code",
   "execution_count": 4,
   "metadata": {},
   "outputs": [
    {
     "data": {
      "text/html": [
       "<div>\n",
       "<style scoped>\n",
       "    .dataframe tbody tr th:only-of-type {\n",
       "        vertical-align: middle;\n",
       "    }\n",
       "\n",
       "    .dataframe tbody tr th {\n",
       "        vertical-align: top;\n",
       "    }\n",
       "\n",
       "    .dataframe thead th {\n",
       "        text-align: right;\n",
       "    }\n",
       "</style>\n",
       "<table border=\"1\" class=\"dataframe\">\n",
       "  <thead>\n",
       "    <tr style=\"text-align: right;\">\n",
       "      <th></th>\n",
       "      <th>count</th>\n",
       "      <th>mean</th>\n",
       "      <th>std</th>\n",
       "      <th>min</th>\n",
       "      <th>25%</th>\n",
       "      <th>50%</th>\n",
       "      <th>75%</th>\n",
       "      <th>max</th>\n",
       "    </tr>\n",
       "  </thead>\n",
       "  <tbody>\n",
       "    <tr>\n",
       "      <th>RowNumber</th>\n",
       "      <td>10000.0</td>\n",
       "      <td>5.000500e+03</td>\n",
       "      <td>2886.895680</td>\n",
       "      <td>1.00</td>\n",
       "      <td>2500.75</td>\n",
       "      <td>5.000500e+03</td>\n",
       "      <td>7.500250e+03</td>\n",
       "      <td>10000.00</td>\n",
       "    </tr>\n",
       "    <tr>\n",
       "      <th>CustomerId</th>\n",
       "      <td>10000.0</td>\n",
       "      <td>1.569094e+07</td>\n",
       "      <td>71936.186123</td>\n",
       "      <td>15565701.00</td>\n",
       "      <td>15628528.25</td>\n",
       "      <td>1.569074e+07</td>\n",
       "      <td>1.575323e+07</td>\n",
       "      <td>15815690.00</td>\n",
       "    </tr>\n",
       "    <tr>\n",
       "      <th>CreditScore</th>\n",
       "      <td>10000.0</td>\n",
       "      <td>6.505288e+02</td>\n",
       "      <td>96.653299</td>\n",
       "      <td>350.00</td>\n",
       "      <td>584.00</td>\n",
       "      <td>6.520000e+02</td>\n",
       "      <td>7.180000e+02</td>\n",
       "      <td>850.00</td>\n",
       "    </tr>\n",
       "    <tr>\n",
       "      <th>Age</th>\n",
       "      <td>10000.0</td>\n",
       "      <td>3.892180e+01</td>\n",
       "      <td>10.487806</td>\n",
       "      <td>18.00</td>\n",
       "      <td>32.00</td>\n",
       "      <td>3.700000e+01</td>\n",
       "      <td>4.400000e+01</td>\n",
       "      <td>92.00</td>\n",
       "    </tr>\n",
       "    <tr>\n",
       "      <th>Tenure</th>\n",
       "      <td>10000.0</td>\n",
       "      <td>5.012800e+00</td>\n",
       "      <td>2.892174</td>\n",
       "      <td>0.00</td>\n",
       "      <td>3.00</td>\n",
       "      <td>5.000000e+00</td>\n",
       "      <td>7.000000e+00</td>\n",
       "      <td>10.00</td>\n",
       "    </tr>\n",
       "    <tr>\n",
       "      <th>Balance</th>\n",
       "      <td>10000.0</td>\n",
       "      <td>7.648589e+04</td>\n",
       "      <td>62397.405202</td>\n",
       "      <td>0.00</td>\n",
       "      <td>0.00</td>\n",
       "      <td>9.719854e+04</td>\n",
       "      <td>1.276442e+05</td>\n",
       "      <td>250898.09</td>\n",
       "    </tr>\n",
       "    <tr>\n",
       "      <th>NumOfProducts</th>\n",
       "      <td>10000.0</td>\n",
       "      <td>1.530200e+00</td>\n",
       "      <td>0.581654</td>\n",
       "      <td>1.00</td>\n",
       "      <td>1.00</td>\n",
       "      <td>1.000000e+00</td>\n",
       "      <td>2.000000e+00</td>\n",
       "      <td>4.00</td>\n",
       "    </tr>\n",
       "    <tr>\n",
       "      <th>HasCrCard</th>\n",
       "      <td>10000.0</td>\n",
       "      <td>7.055000e-01</td>\n",
       "      <td>0.455840</td>\n",
       "      <td>0.00</td>\n",
       "      <td>0.00</td>\n",
       "      <td>1.000000e+00</td>\n",
       "      <td>1.000000e+00</td>\n",
       "      <td>1.00</td>\n",
       "    </tr>\n",
       "    <tr>\n",
       "      <th>IsActiveMember</th>\n",
       "      <td>10000.0</td>\n",
       "      <td>5.151000e-01</td>\n",
       "      <td>0.499797</td>\n",
       "      <td>0.00</td>\n",
       "      <td>0.00</td>\n",
       "      <td>1.000000e+00</td>\n",
       "      <td>1.000000e+00</td>\n",
       "      <td>1.00</td>\n",
       "    </tr>\n",
       "    <tr>\n",
       "      <th>EstimatedSalary</th>\n",
       "      <td>10000.0</td>\n",
       "      <td>1.000902e+05</td>\n",
       "      <td>57510.492818</td>\n",
       "      <td>11.58</td>\n",
       "      <td>51002.11</td>\n",
       "      <td>1.001939e+05</td>\n",
       "      <td>1.493882e+05</td>\n",
       "      <td>199992.48</td>\n",
       "    </tr>\n",
       "    <tr>\n",
       "      <th>Exited</th>\n",
       "      <td>10000.0</td>\n",
       "      <td>2.037000e-01</td>\n",
       "      <td>0.402769</td>\n",
       "      <td>0.00</td>\n",
       "      <td>0.00</td>\n",
       "      <td>0.000000e+00</td>\n",
       "      <td>0.000000e+00</td>\n",
       "      <td>1.00</td>\n",
       "    </tr>\n",
       "  </tbody>\n",
       "</table>\n",
       "</div>"
      ],
      "text/plain": [
       "                   count          mean           std          min  \\\n",
       "RowNumber        10000.0  5.000500e+03   2886.895680         1.00   \n",
       "CustomerId       10000.0  1.569094e+07  71936.186123  15565701.00   \n",
       "CreditScore      10000.0  6.505288e+02     96.653299       350.00   \n",
       "Age              10000.0  3.892180e+01     10.487806        18.00   \n",
       "Tenure           10000.0  5.012800e+00      2.892174         0.00   \n",
       "Balance          10000.0  7.648589e+04  62397.405202         0.00   \n",
       "NumOfProducts    10000.0  1.530200e+00      0.581654         1.00   \n",
       "HasCrCard        10000.0  7.055000e-01      0.455840         0.00   \n",
       "IsActiveMember   10000.0  5.151000e-01      0.499797         0.00   \n",
       "EstimatedSalary  10000.0  1.000902e+05  57510.492818        11.58   \n",
       "Exited           10000.0  2.037000e-01      0.402769         0.00   \n",
       "\n",
       "                         25%           50%           75%          max  \n",
       "RowNumber            2500.75  5.000500e+03  7.500250e+03     10000.00  \n",
       "CustomerId       15628528.25  1.569074e+07  1.575323e+07  15815690.00  \n",
       "CreditScore           584.00  6.520000e+02  7.180000e+02       850.00  \n",
       "Age                    32.00  3.700000e+01  4.400000e+01        92.00  \n",
       "Tenure                  3.00  5.000000e+00  7.000000e+00        10.00  \n",
       "Balance                 0.00  9.719854e+04  1.276442e+05    250898.09  \n",
       "NumOfProducts           1.00  1.000000e+00  2.000000e+00         4.00  \n",
       "HasCrCard               0.00  1.000000e+00  1.000000e+00         1.00  \n",
       "IsActiveMember          0.00  1.000000e+00  1.000000e+00         1.00  \n",
       "EstimatedSalary     51002.11  1.001939e+05  1.493882e+05    199992.48  \n",
       "Exited                  0.00  0.000000e+00  0.000000e+00         1.00  "
      ]
     },
     "execution_count": 4,
     "metadata": {},
     "output_type": "execute_result"
    }
   ],
   "source": [
    "#check basic statistic\n",
    "df.describe().T"
   ]
  },
  {
   "attachments": {},
   "cell_type": "markdown",
   "metadata": {},
   "source": [
    "The dataset statistics reveal key information about the features:\n",
    "- RowNumber and CustomerId: These are identification columns with no impact on predictions. Used only for reference, not included in the training.\n",
    "- CreditScore: Mean of 650.53 with a standard deviation of 96. Range in 350 to 850, indicating variability in customer creditworthiness.\n",
    "- Age: Mean is 38.92 years, with customers ranging from 18 to 92 years old. High variance might suggest diverse customer demographics.\n",
    "- Tenure: Mean is 5.01 years, ranging from 0 to 10 years. Reflects varying customer loyalty durations.\n",
    "- Balance: Mean is $76,485.89, with some customers having $0 balance while others reach $250,898. Customers with $0 balance may indicate inactive accounts.\n",
    "- NumOfProducts: Mean 1.53, indicating most customers use 1 or 2 products. Max of 4 products.\n",
    "- HasCrCard: Binary feature (0/1) with a mean of 0.71. Indicates 71% of customers have a credit card.\n",
    "- IsActiveMember: Binary feature (0/1) with a mean of 0.52. Indicates 52% of customers are actively engaged with the bank.\n",
    "- EstimatedSalary: Mean $100,090, with a wide range from $11.58 to $199,992. Suggests diverse income levels among customers.\n",
    "- Exited: Target variable with a mean of 0.20. Indicates that 20% of customers have churned."
   ]
  },
  {
   "cell_type": "code",
   "execution_count": 5,
   "metadata": {},
   "outputs": [
    {
     "name": "stdout",
     "output_type": "stream",
     "text": [
      "number of duplicates: 0\n"
     ]
    }
   ],
   "source": [
    "# count the number of duplication of data\n",
    "print(f\"number of duplicates: {df.duplicated().sum()}\")"
   ]
  },
  {
   "attachments": {},
   "cell_type": "markdown",
   "metadata": {},
   "source": [
    "There is no duplicate data in the dataset."
   ]
  },
  {
   "cell_type": "code",
   "execution_count": 6,
   "metadata": {},
   "outputs": [
    {
     "name": "stdout",
     "output_type": "stream",
     "text": [
      "RowNumber          0\n",
      "CustomerId         0\n",
      "Surname            0\n",
      "CreditScore        0\n",
      "Geography          0\n",
      "Gender             0\n",
      "Age                0\n",
      "Tenure             0\n",
      "Balance            0\n",
      "NumOfProducts      0\n",
      "HasCrCard          0\n",
      "IsActiveMember     0\n",
      "EstimatedSalary    0\n",
      "Exited             0\n",
      "dtype: int64\n"
     ]
    }
   ],
   "source": [
    "# check missing values \n",
    "print(df.isnull().sum())"
   ]
  },
  {
   "attachments": {},
   "cell_type": "markdown",
   "metadata": {},
   "source": [
    "There is no missing values detected in the dataset in each column. Value 0 in some column such as balance and tenure has information so it's not a part of missing values that has to be handled."
   ]
  },
  {
   "cell_type": "code",
   "execution_count": 7,
   "metadata": {},
   "outputs": [],
   "source": [
    "# Rename 'HasCrCard' column to 'HasCreditCard'\n",
    "df.rename(columns={'HasCrCard': 'HasCreditCard'}, inplace=True)\n"
   ]
  },
  {
   "attachments": {},
   "cell_type": "markdown",
   "metadata": {},
   "source": [
    "Before proceeding to the EDA and feature engineering process, change the column name from HasCrCard to HasCreditCard to make it clearer."
   ]
  },
  {
   "attachments": {},
   "cell_type": "markdown",
   "metadata": {},
   "source": [
    "### iv. EXPLORATORY DATA ANALYSIS (EDA)"
   ]
  },
  {
   "attachments": {},
   "cell_type": "markdown",
   "metadata": {},
   "source": [
    "#### A. Churn Analysis: Proportion and Count of Exited Customers"
   ]
  },
  {
   "cell_type": "code",
   "execution_count": 8,
   "metadata": {},
   "outputs": [
    {
     "data": {
      "image/png": "[encoded data removed]",
      "text/plain": [
       "<Figure size 1500x600 with 2 Axes>"
      ]
     },
     "metadata": {},
     "output_type": "display_data"
    }
   ],
   "source": [
    "# Creating subplots with 2 columns (1 row)\n",
    "fig, axes = plt.subplots(1, 2, figsize=(15, 6))\n",
    "\n",
    "# Visualization 1: Pie chart for overall Exited distribution\n",
    "df['Exited'].value_counts().plot(kind='pie', autopct='%1.1f%%', startangle=90, \n",
    "                                   colors=['#66b3ff', '#ff6666'], explode=(0, 0.1), ax=axes[0])\n",
    "axes[0].set_title('Overall Customer Exit Status')\n",
    "axes[0].set_ylabel('')  # Removing the y-axis label\n",
    "\n",
    "# Visualization 2: Countplot for the distribution of target variable Exited\n",
    "sns.countplot(x='Exited', data=df, ax=axes[1])\n",
    "axes[1].set_title('Distribution of Target Variable (Exited)')\n",
    "\n",
    "# Displaying both visualizations in one figure\n",
    "plt.tight_layout()\n",
    "plt.show()\n"
   ]
  },
  {
   "attachments": {},
   "cell_type": "markdown",
   "metadata": {},
   "source": [
    "- The pie chart in the left shows the proportion of customers who exited (churned) versus those who did not exit. 79.6% of customers did not churn (label 0), while 20.4% of customers churned (label 1). This indicates a significant class imbalance, where the majority of customers remain with the service.\n",
    "- The bar plot confirms the same imbalance: Around 8000 customers belong to the \"No Exit\" category (0). Approximately 2000 customers belong to the \"Exit\" category (1).\n",
    "- Class Imbalance: The dataset is imbalanced, with far fewer customers who churned (20.4%) compared to those who stayed (79.6%). This imbalance can affect machine learning models by making them biased towards the majority class (No Exit).\n"
   ]
  },
  {
   "attachments": {},
   "cell_type": "markdown",
   "metadata": {},
   "source": [
    "#### B. Age Distribution Chart"
   ]
  },
  {
   "cell_type": "code",
   "execution_count": 9,
   "metadata": {},
   "outputs": [
    {
     "data": {
      "image/png": "[encoded data removed]",
      "text/plain": [
       "<Figure size 640x480 with 1 Axes>"
      ]
     },
     "metadata": {},
     "output_type": "display_data"
    }
   ],
   "source": [
    "# Age distribution\n",
    "sns.histplot(df['Age'])\n",
    "plt.title('Age Distribution')\n",
    "plt.show()"
   ]
  },
  {
   "attachments": {},
   "cell_type": "markdown",
   "metadata": {},
   "source": [
    "- The age distribution is right-skewed (positively skewed), meaning that most customers are concentrated in the younger age range, with a gradual decline as age increases.\n",
    "- There are notable peaks around 30 years and 40 years, indicating these age groups have the highest customer counts.\n",
    "- The majority of customers are between the ages of 30 and 50, with 40 years old being the most common.\n",
    "- After age 50, the number of customers declines significantly, indicating fewer older customers in the dataset.\n",
    "- Very few customers are above 70 years, which could mean the product/service appeals more to younger or middle-aged individuals.\n",
    "\n",
    "> Targeted Marketing: Focus marketing efforts on age groups that form the majority of customers (30–50 years). Prioritize retention strategies for customers in the dominant age ranges."
   ]
  },
  {
   "attachments": {},
   "cell_type": "markdown",
   "metadata": {},
   "source": [
    "#### C. Density Distribution of Age by Gender"
   ]
  },
  {
   "cell_type": "code",
   "execution_count": 10,
   "metadata": {},
   "outputs": [
    {
     "data": {
      "image/png": "[encoded data removed]",
      "text/plain": [
       "<Figure size 800x600 with 1 Axes>"
      ]
     },
     "metadata": {},
     "output_type": "display_data"
    }
   ],
   "source": [
    "# Density Plot Visualization for Age based on Gender\n",
    "plt.figure(figsize=(8, 6))\n",
    "sns.kdeplot(data=df, x='Age', hue='Gender', fill=True, palette='coolwarm')\n",
    "plt.title('Density Distribution of Age by Gender')\n",
    "plt.show()\n"
   ]
  },
  {
   "attachments": {},
   "cell_type": "markdown",
   "metadata": {},
   "source": [
    "- The distribution of age for both male and female customers is right-skewed (positively skewed).\n",
    "- Most customers fall between the ages of 30 and 40, with the density decreasing gradually as age increases.\n",
    "- The male distribution has a slightly higher peak, indicating that males are more concentrated around the age of 35–40.\n",
    "- The female distribution shows a similar trend but with a slightly broader spread.\n",
    "- Age Concentration: The majority of customers for both genders are concentrated in the 30–40 year age range. This age group appears to be the key demographic.\n",
    "- Slight Gender Difference: While the age distributions are very similar, males appear to have a slightly sharper concentration around the peak age compared to females.\n",
    "\n",
    "> strategic recommendations: Leverage targeted marketing strategies based on age and gender insights to improve campaign effectiveness and engagement. Introduce products tailored to specific age and gender groups, such as flexible savings plans for younger customers and investment portfolios for older ones."
   ]
  },
  {
   "attachments": {},
   "cell_type": "markdown",
   "metadata": {},
   "source": [
    "#### D. Analysis of the Chart: Average Age by Gender"
   ]
  },
  {
   "cell_type": "code",
   "execution_count": 11,
   "metadata": {},
   "outputs": [
    {
     "name": "stderr",
     "output_type": "stream",
     "text": [
      "C:\\Users\\ASUS\\AppData\\Local\\Temp\\ipykernel_15512\\3558735132.py:6: FutureWarning: \n",
      "\n",
      "Passing `palette` without assigning `hue` is deprecated and will be removed in v0.14.0. Assign the `x` variable to `hue` and set `legend=False` for the same effect.\n",
      "\n",
      "  sns.barplot(x='Gender', y='Age', data=gender_age_avg, palette='coolwarm')\n"
     ]
    },
    {
     "data": {
      "image/png": "[encoded data removed]",
      "text/plain": [
       "<Figure size 800x600 with 1 Axes>"
      ]
     },
     "metadata": {},
     "output_type": "display_data"
    }
   ],
   "source": [
    "# Calculating Age statistics based on Gender\n",
    "gender_age_avg = df.groupby('Gender')['Age'].mean().reset_index()\n",
    "\n",
    "# Bar Chart Visualization\n",
    "plt.figure(figsize=(8, 6))\n",
    "sns.barplot(x='Gender', y='Age', data=gender_age_avg, palette='coolwarm')\n",
    "plt.title('Average Age by Gender')\n",
    "plt.show()\n"
   ]
  },
  {
   "attachments": {},
   "cell_type": "markdown",
   "metadata": {},
   "source": [
    "- The average age for Female and Male customers is almost the same, both around 39 years.\n",
    "- There is no significant difference between the two groups in terms of average age.\n",
    "- The similar average age for both genders suggests that the product or service appeals equally to both males and females in the 39-year age range.\n",
    "- This indicates that age is not a differentiating factor between genders in this dataset.\n",
    "\n",
    "> Marketing strategies or retention plans do not need to focus on gender-specific age differences, as both male and female customers share a similar age profile. Businesses can target the average age group of 39 years more effectively for campaigns or services that cater to this demographic."
   ]
  },
  {
   "attachments": {},
   "cell_type": "markdown",
   "metadata": {},
   "source": [
    "#### E. Age Distribution by Exited (Churn Status)"
   ]
  },
  {
   "cell_type": "code",
   "execution_count": 12,
   "metadata": {},
   "outputs": [
    {
     "name": "stderr",
     "output_type": "stream",
     "text": [
      "C:\\Users\\ASUS\\AppData\\Local\\Temp\\ipykernel_15512\\2878146742.py:3: FutureWarning: \n",
      "\n",
      "Passing `palette` without assigning `hue` is deprecated and will be removed in v0.14.0. Assign the `x` variable to `hue` and set `legend=False` for the same effect.\n",
      "\n",
      "  sns.boxplot(x='Exited', y='Age', data=df, palette='coolwarm')\n"
     ]
    },
    {
     "data": {
      "image/png": "[encoded data removed]",
      "text/plain": [
       "<Figure size 1000x600 with 1 Axes>"
      ]
     },
     "metadata": {},
     "output_type": "display_data"
    }
   ],
   "source": [
    "# Visualization of age distribution (Age) based on exit status (Exited)\n",
    "plt.figure(figsize=(10, 6))\n",
    "sns.boxplot(x='Exited', y='Age', data=df, palette='coolwarm')\n",
    "plt.title('Age Distribution by Exited')\n",
    "plt.show()"
   ]
  },
  {
   "attachments": {},
   "cell_type": "markdown",
   "metadata": {},
   "source": [
    "- The majority of customers who did not churn are between the ages of 30 to 40. There are a significant number of outliers above age 55, indicating older customers who stayed but are not the majority. \n",
    "- Customers who churned tend to be older, with the age range concentrated between 40 and 50. There are fewer younger customers (below 30) in the churn group. There are also some outliers, particularly customers aged above 70, who churned.\n",
    "- Both groups have some outliers in older ages (above 70), but they are more prominent in the churn group.\n",
    "\n",
    "> Younger customers appear to be more stable, suggesting they may already be satisfied or engaged with the product/service. Focus retention strategies on older customers (40+), as they show a higher likelihood of churning."
   ]
  },
  {
   "attachments": {},
   "cell_type": "markdown",
   "metadata": {},
   "source": [
    "#### F. Analysis of Credit Score vs Exited (Churn Status)"
   ]
  },
  {
   "cell_type": "code",
   "execution_count": 13,
   "metadata": {},
   "outputs": [
    {
     "data": {
      "image/png": "[encoded data removed]",
      "text/plain": [
       "<Figure size 640x480 with 1 Axes>"
      ]
     },
     "metadata": {},
     "output_type": "display_data"
    }
   ],
   "source": [
    "# CreditScore vs Exited (Target variable)\n",
    "sns.boxplot(x='Exited', y='CreditScore', data=df)\n",
    "plt.title('Credit Score vs Exited')\n",
    "plt.show()"
   ]
  },
  {
   "attachments": {},
   "cell_type": "markdown",
   "metadata": {},
   "source": [
    "- The median Credit Score for both churned customers (Exited = 1) and non-churned customers (Exited = 0) is similar, around 650.\n",
    "- In Churn Group (Exited = 1) shows that:\n",
    "    - There are lower outliers below 400, which indicates that some customers with very low credit scores tend to churn.\n",
    "    - The credit score distribution for churned customers appears slightly wider, with a few lower extreme values.\n",
    "- In Non-Churn Group (Exited=0) shows that:\n",
    "    - The credit score distribution is tighter and slightly skewed towards higher credit scores compared to the churn group.\n",
    "- Credit score alone does not appear to be a strong differentiator between churned and non-churned customers, as the medians and interquartile ranges are quite similar.\n",
    "- However, customers with very low credit scores (outliers below 400) are more likely to churn.\n",
    "\n",
    "> Customers with extremely low credit scores may need special attention, as they are more prone to churn."
   ]
  },
  {
   "attachments": {},
   "cell_type": "markdown",
   "metadata": {},
   "source": [
    "#### G. Analysis of Balance vs Exited (Churn Status)"
   ]
  },
  {
   "cell_type": "code",
   "execution_count": 14,
   "metadata": {},
   "outputs": [
    {
     "data": {
      "image/png": "[encoded data removed]",
      "text/plain": [
       "<Figure size 640x480 with 1 Axes>"
      ]
     },
     "metadata": {},
     "output_type": "display_data"
    }
   ],
   "source": [
    "# Balance vs Exited\n",
    "sns.boxplot(x='Exited', y='Balance', data=df)\n",
    "plt.title('Balance vs Exited')\n",
    "plt.show()"
   ]
  },
  {
   "attachments": {},
   "cell_type": "markdown",
   "metadata": {},
   "source": [
    "- Non-Churn Group (Exited = 0):\n",
    "    - Many customers have a balance closer to zero, with the median balance around 100,000.\n",
    "    - The data shows a wide range of balances, but there is a large concentration of customers with low balances.\n",
    "    - Low Balance Customers Tend to Stay: Non-churn customers have a higher concentration of very low balances, possibly indicating they have minimal engagement or no strong incentives to leave.\n",
    "- Churn Group (Exited = 1):\n",
    "    - The median balance is slightly higher compared to the non-churn group.\n",
    "    - There is a noticeable absence of customers with very low balances in the churn group.\n",
    "    - Some customers in the churn group have significantly higher balances (up to 250,000).\n",
    "    - Higher Balances Are Linked to Churn: Customers who churn tend to have higher balances, suggesting that high-value customers may feel dissatisfied or underserved despite their significant account holdings.\n",
    "> Focus on High-Balance Customers: Customers with higher balances are more valuable to the business but are also more likely to churn. Special retention strategies should be implemented for this group"
   ]
  },
  {
   "attachments": {},
   "cell_type": "markdown",
   "metadata": {},
   "source": [
    "#### H. Analysis of Geography vs Exited (Churn Status)"
   ]
  },
  {
   "cell_type": "code",
   "execution_count": 15,
   "metadata": {},
   "outputs": [
    {
     "data": {
      "image/png": "[encoded data removed]",
      "text/plain": [
       "<Figure size 1000x600 with 1 Axes>"
      ]
     },
     "metadata": {},
     "output_type": "display_data"
    }
   ],
   "source": [
    "# Visualization for categorical variables (Geography) and Exited\n",
    "plt.figure(figsize=(10, 6))\n",
    "sns.countplot(x='Geography', hue='Exited', data=df, palette='muted')\n",
    "plt.title('Geography vs Exited')\n",
    "plt.show()"
   ]
  },
  {
   "attachments": {},
   "cell_type": "markdown",
   "metadata": {},
   "source": [
    "- The majority of customers are from France, with very few of them exiting (churning).\n",
    "- Spain has fewer customers overall compared to France, and the number of churned customers is also low.\n",
    "- Germany has a relatively smaller total customer count compared to France, but the churn rate is noticeably higher compared to the other countries.\n",
    "- Churn is higher in Germany: Despite having fewer customers overall, Germany has a disproportionately higher number of churned customers compared to France and Spain.\n",
    "- France and Spain have lower churn rates: Most customers in these countries tend to stay, indicating better customer satisfaction or engagement in these regions.\n",
    "\n",
    "> Continue strategies that retain customers in France and Spain, as churn rates here are relatively low. Since churn is significantly higher in Germany, further investigation is needed to identify why customers in this region are leaving."
   ]
  },
  {
   "attachments": {},
   "cell_type": "markdown",
   "metadata": {},
   "source": [
    "#### I. Analysis of Correlation Heatmap of Numerical Features"
   ]
  },
  {
   "cell_type": "code",
   "execution_count": 16,
   "metadata": {},
   "outputs": [
    {
     "data": {
      "image/png": "[encoded data removed]",
      "text/plain": [
       "<Figure size 1200x800 with 2 Axes>"
      ]
     },
     "metadata": {},
     "output_type": "display_data"
    }
   ],
   "source": [
    "# Create a temporary copy of the data without the 'RowNumber' column for EDA\n",
    "eda_data = df.drop(columns=['RowNumber', 'CustomerId'])\n",
    "\n",
    "# Select only the numerical columns (excluding 'RowNumber') for correlation\n",
    "numerical_data = eda_data.select_dtypes(include=['float64', 'int64'])\n",
    "\n",
    "# Correlation between numerical features\n",
    "correlation_matrix = numerical_data.corr()\n",
    "\n",
    "# Visualize the heatmap for correlation between numerical features\n",
    "plt.figure(figsize=(12, 8))\n",
    "sns.heatmap(correlation_matrix, annot=True, cmap='coolwarm', fmt='.2f', linewidths=0.5)\n",
    "plt.title('Correlation Heatmap of Numerical Features (Without RowNumber)')\n",
    "plt.show()\n"
   ]
  },
  {
   "attachments": {},
   "cell_type": "markdown",
   "metadata": {},
   "source": [
    "- The heatmap highlights correlations between numerical features in the dataset, including the target variable Exited.\n",
    "- The strongest positive correlation with Exited is Age (0.29).\n",
    "Older customers are more likely to churn compared to younger ones.\n",
    "- There is a weak positive correlation between Balance and Exited (0.12), indicating customers with higher balances have a slightly higher tendency to churn.\n",
    "- There is a negative correlation of -0.16 between IsActiveMember and Exited.\n",
    "Customers who are active members are less likely to churn.\n",
    "- A strong negative correlation (-0.30) exists between NumOfProducts and Balance. This suggests that customers with more products tend to have lower balances.\n",
    "- Features like CreditScore, Tenure, HasCrCard, and EstimatedSalary show very weak correlations with Exited, indicating they are not strong predictors of churn individually.\n",
    "\n"
   ]
  },
  {
   "attachments": {},
   "cell_type": "markdown",
   "metadata": {},
   "source": [
    "### v. FEATURE ENGINEERING"
   ]
  },
  {
   "attachments": {},
   "cell_type": "markdown",
   "metadata": {},
   "source": [
    "First, define the X and y. Make the Exited column as the target. Drop unnecessary columns for X such as Exited (because it's the target itself), RowNumber (simply a row index that serves no predictive value and it is irrelevant to the churn prediction task and should be dropped), CustomerID ( It doesn't represent any meaningful feature about the customer's behavior so it can be dropped without impactiong the model's performance), and Surname (This is the customer's last name, which has no correlation with the likelihood of churn)."
   ]
  },
  {
   "cell_type": "code",
   "execution_count": 17,
   "metadata": {},
   "outputs": [],
   "source": [
    "# Feature Selection: Drop unnecessary columns\n",
    "X = df.copy()\n",
    "X = X.drop(columns=['Exited', 'RowNumber', 'CustomerId', 'Surname'])\n",
    "\n",
    "# Define the target variable (y)\n",
    "y = df['Exited']"
   ]
  },
  {
   "attachments": {},
   "cell_type": "markdown",
   "metadata": {},
   "source": [
    "Define the feature and target as three categories which are numeric_feature, categorical_features, and binary_features. For features such as HasCreditCard and IsActiveMember have a numeric data type but are categorized as binary_features because the data content has been encoded into 0 and 1 as binary."
   ]
  },
  {
   "cell_type": "code",
   "execution_count": 18,
   "metadata": {},
   "outputs": [],
   "source": [
    "# Define the features (X) and target (y)\n",
    "numeric_features = ['CreditScore', 'Age', 'Tenure', 'Balance', 'NumOfProducts', 'EstimatedSalary']\n",
    "categorical_features = ['Geography', 'Gender']\n",
    "binary_features = ['HasCreditCard', 'IsActiveMember'] "
   ]
  },
  {
   "attachments": {},
   "cell_type": "markdown",
   "metadata": {},
   "source": [
    "---Cardinality Check"
   ]
  },
  {
   "cell_type": "code",
   "execution_count": 19,
   "metadata": {},
   "outputs": [
    {
     "name": "stdout",
     "output_type": "stream",
     "text": [
      "Cardinality of Geography: 3\n",
      "Cardinality of Gender: 2\n"
     ]
    }
   ],
   "source": [
    "# Cardinality check and handling\n",
    "for col in ['Geography', 'Gender']:\n",
    "    cardinality = X[col].nunique()\n",
    "    print(f\"Cardinality of {col}: {cardinality}\")"
   ]
  },
  {
   "attachments": {},
   "cell_type": "markdown",
   "metadata": {},
   "source": [
    "The cardinality check was performed only on contextual categorical columns, excluding binary columns. For the Geography and Gender columns, which have only 3 and 2 unique values respectively, this indicates low cardinality, so no handling is necessary."
   ]
  },
  {
   "attachments": {},
   "cell_type": "markdown",
   "metadata": {},
   "source": [
    "----Split to train and test\n",
    "\n",
    "The dataset is split into training (80%) and testing (20%) subsets using train_test_split. This ensures that the model is trained on one part of the data (X_train, y_train) and evaluated on a separate, unseen part (X_test, y_test). The random_state=42 parameter ensures reproducibility by producing the same split every time the code is run."
   ]
  },
  {
   "cell_type": "code",
   "execution_count": 20,
   "metadata": {},
   "outputs": [],
   "source": [
    "# Step: Train-Test Split\n",
    "# Split the data into training and testing sets (80% train, 20% test)\n",
    "X_train, X_test, y_train, y_test = train_test_split(X, y, test_size=0.2, random_state=42)"
   ]
  },
  {
   "attachments": {},
   "cell_type": "markdown",
   "metadata": {},
   "source": [
    "----Handling Missing Values\n",
    "\n",
    "Check the missing values in X_train, X_test, y_train, y_test."
   ]
  },
  {
   "cell_type": "code",
   "execution_count": 21,
   "metadata": {},
   "outputs": [
    {
     "name": "stdout",
     "output_type": "stream",
     "text": [
      "Missing values in training data:\n",
      "CreditScore        0\n",
      "Geography          0\n",
      "Gender             0\n",
      "Age                0\n",
      "Tenure             0\n",
      "Balance            0\n",
      "NumOfProducts      0\n",
      "HasCreditCard      0\n",
      "IsActiveMember     0\n",
      "EstimatedSalary    0\n",
      "dtype: int64\n"
     ]
    }
   ],
   "source": [
    "# Handling missing values (checked in X_train)\n",
    "print(\"Missing values in training data:\")\n",
    "print(X_train.isnull().sum())"
   ]
  },
  {
   "cell_type": "code",
   "execution_count": 22,
   "metadata": {},
   "outputs": [
    {
     "name": "stdout",
     "output_type": "stream",
     "text": [
      "Missing values in training data:\n",
      "CreditScore        0\n",
      "Geography          0\n",
      "Gender             0\n",
      "Age                0\n",
      "Tenure             0\n",
      "Balance            0\n",
      "NumOfProducts      0\n",
      "HasCreditCard      0\n",
      "IsActiveMember     0\n",
      "EstimatedSalary    0\n",
      "dtype: int64\n"
     ]
    }
   ],
   "source": [
    "# Handling missing values (checked in X_test)\n",
    "print(\"Missing values in training data:\")\n",
    "print(X_test.isnull().sum())"
   ]
  },
  {
   "cell_type": "code",
   "execution_count": 23,
   "metadata": {},
   "outputs": [
    {
     "name": "stdout",
     "output_type": "stream",
     "text": [
      "Missing values in training data:\n",
      "0\n"
     ]
    }
   ],
   "source": [
    "# Handling missing values (checked in X_train)\n",
    "print(\"Missing values in training data:\")\n",
    "print(y_train.isnull().sum())"
   ]
  },
  {
   "cell_type": "code",
   "execution_count": 24,
   "metadata": {},
   "outputs": [
    {
     "name": "stdout",
     "output_type": "stream",
     "text": [
      "Missing values in training data:\n",
      "0\n"
     ]
    }
   ],
   "source": [
    "# Handling missing values (checked in X_train)\n",
    "print(\"Missing values in training data:\")\n",
    "print(y_test.isnull().sum())"
   ]
  },
  {
   "attachments": {},
   "cell_type": "markdown",
   "metadata": {},
   "source": [
    "NO MISSING VALUES were found in X_train, X_test, y_train, or y_test, so there is no need for handling missing values."
   ]
  },
  {
   "attachments": {},
   "cell_type": "markdown",
   "metadata": {},
   "source": [
    "----Handling Outlier\n",
    "\n",
    "The code below uses IQR (Interquartile Range) and Z-Score methods to detect outliers in numerical features. It flags outliers without handling them (e.g., removing or modifying values). Adds binary columns (e.g., CreditScore_outlier) to indicate whether each row is an outlier for that feature. As the part of the output, a summary table showing the number of outliers detected by both methods for each feature.\n",
    "\n",
    "Reason for only detecting outliers, no handling needed: \n",
    "- The dataset reflects real-world data about customers, with no human error or invalid entries. So the outliers are valid. I check it from the dataset itself.\n",
    "- Removing or modifying outliers risks losing valuable data about unique customer behaviors, which could be significant for the churn prediction model.\n",
    "- XGBoost as a model that I want to use is a tree-based algorithm that is inherently robust to outliers. It splits data into regions without being heavily influenced by extreme values.\n",
    "\n",
    "Justification for those argument :\n",
    "- Outliers often represent critical data points rather than errors, offering insights into unique behaviors or rare events (Aggarwal, C. C. (2015). Outlier Analysis. Springer)\n",
    "- Real-world data often contains outliers that are legitimate and provide meaningful patterns for models. And for this cases, the churn customer dataset is likely a real world data (Hodge, V., & Austin, J. (2004). A survey of outlier detection methodologies. Artificial Intelligence Review, 22(2), 85-126)\n",
    "- Tree-based algorithms like XGBoost are robust to outliers because splits depend on relative positioning rather than absolute values (Chen, T., & Guestrin, C. (2016). XGBoost: A scalable tree boosting system. Proceedings of the 22nd ACM SIGKDD International Conference on Knowledge Discovery and Data Mining)\n",
    "\n",
    "notes: the source of the justification is in brackets at each points."
   ]
  },
  {
   "cell_type": "code",
   "execution_count": 25,
   "metadata": {},
   "outputs": [
    {
     "name": "stdout",
     "output_type": "stream",
     "text": [
      "Outliers detection result using IQR and Z-Score:\n",
      "           Feature  IQR Outliers Count  Z-Score Outliers Count\n",
      "0      CreditScore                   8                       8\n",
      "1              Age                 133                     133\n",
      "2           Tenure                   0                       0\n",
      "3          Balance                   0                       0\n",
      "4    NumOfProducts                  60                      60\n",
      "5  EstimatedSalary                   0                       0\n",
      "\n",
      "First few rows of outlier flags:\n",
      "   CreditScore_outlier  Age_outlier  Tenure_outlier  Balance_outlier  \\\n",
      "0                False        False           False            False   \n",
      "1                False        False           False            False   \n",
      "2                False        False           False            False   \n",
      "3                False        False           False            False   \n",
      "4                False        False           False            False   \n",
      "\n",
      "   NumOfProducts_outlier  EstimatedSalary_outlier  \n",
      "0                  False                    False  \n",
      "1                  False                    False  \n",
      "2                  False                    False  \n",
      "3                  False                    False  \n",
      "4                  False                    False  \n"
     ]
    }
   ],
   "source": [
    "# Function to detect outliers using both IQR and Z-Score methods\n",
    "def detect_outliers(df, numeric_features, method=\"IQR\"):\n",
    "    \"\"\"\n",
    "    This function detects outliers in the dataset using either IQR or Z-Score method.\n",
    "\n",
    "    Parameters:\n",
    "    - df: DataFrame containing the data\n",
    "    - numeric_features: List of numeric feature columns to check for outliers\n",
    "    - method: Method used for outlier detection (\"IQR\" or \"Z-Score\")\n",
    "\n",
    "    Returns:\n",
    "    - df: DataFrame with additional columns indicating outliers for each numeric feature\n",
    "    \"\"\"\n",
    "    for feature in numeric_features:\n",
    "        if method == \"IQR\":\n",
    "            # Calculate Q1, Q3, and IQR for IQR-based outlier detection\n",
    "            Q1 = df[feature].quantile(0.25)\n",
    "            Q3 = df[feature].quantile(0.75)\n",
    "            IQR = Q3 - Q1\n",
    "            lower_bound = Q1 - 1.5 * IQR\n",
    "            upper_bound = Q3 + 1.5 * IQR\n",
    "            df[f'{feature}_outlier'] = (df[feature] < lower_bound) | (df[feature] > upper_bound)\n",
    "        \n",
    "        elif method == \"Z-Score\":\n",
    "            # Calculate Z-Score for Z-Score-based outlier detection\n",
    "            z_scores = zscore(df[feature].dropna())  # Drop NaN values to avoid errors\n",
    "            threshold = 3  # Z-Score threshold to classify an outlier\n",
    "            df[f'{feature}_outlier'] = np.abs(z_scores) > threshold\n",
    "\n",
    "    return df\n",
    "\n",
    "# Detect outliers using both IQR and Z-Score\n",
    "df = detect_outliers(df, numeric_features, method=\"IQR\")\n",
    "df = detect_outliers(df, numeric_features, method=\"Z-Score\")\n",
    "\n",
    "# Display outliers detection result\n",
    "print(\"Outliers detection result using IQR and Z-Score:\")\n",
    "outliers_summary = pd.DataFrame({\n",
    "    'Feature': numeric_features,\n",
    "    'IQR Outliers Count': [df[f'{feature}_outlier'].sum() for feature in numeric_features],\n",
    "    'Z-Score Outliers Count': [df[f'{feature}_outlier'].sum() for feature in numeric_features]\n",
    "})\n",
    "\n",
    "print(outliers_summary)\n",
    "\n",
    "# Display the first few rows of the outlier flags\n",
    "print(\"\\nFirst few rows of outlier flags:\")\n",
    "print(df[['CreditScore_outlier', 'Age_outlier', 'Tenure_outlier', 'Balance_outlier', 'NumOfProducts_outlier', 'EstimatedSalary_outlier']].head())\n"
   ]
  },
  {
   "attachments": {},
   "cell_type": "markdown",
   "metadata": {},
   "source": [
    "- 8 outliers detected. Likely due to extremely high or low credit scores (it's valid outliers)\n",
    "- 133 Outliers in Age may represent very young (18 years) or elderly customers (above 70), who might behave differently in banking services.\n",
    "- 60 outliers in NumOfProducts. Customers with 3 or 4 products are flagged, as the majority use 1-2 products. No need to handling because it will change the information.\n",
    "- All rows show False for the outlier flags, indicating that these customers have no extreme values for any features."
   ]
  },
  {
   "attachments": {},
   "cell_type": "markdown",
   "metadata": {},
   "source": [
    "----Feature selection\n",
    "\n",
    "This code below combines the features (X_train) and categorizes them into numeric_features, categorical_features, and binary_features, creating a structured DataFrame (X_train_combined) for analysis. It will be used for feature engineering steps by checking the correlation for numerical feature, categorical features, and binary features."
   ]
  },
  {
   "cell_type": "code",
   "execution_count": 26,
   "metadata": {},
   "outputs": [],
   "source": [
    "# Combine X_train and y for analysis\n",
    "X_train_combined = pd.DataFrame(X_train, columns=numeric_features + categorical_features + binary_features)"
   ]
  },
  {
   "attachments": {},
   "cell_type": "markdown",
   "metadata": {},
   "source": [
    "First, calculates the ANOVA correlation p-values for numerical features in numeric_features by analyzing the variance between the feature values grouped by the target variable y_train. The results are stored in anova_results and printed to assess the significance of each feature's relationship with the target."
   ]
  },
  {
   "cell_type": "code",
   "execution_count": 27,
   "metadata": {},
   "outputs": [
    {
     "name": "stdout",
     "output_type": "stream",
     "text": [
      "ANOVA Correlation Results (Numerical Features):\n",
      "{'CreditScore': np.float64(0.00875610792577869), 'Age': np.float64(2.1478401326183746e-147), 'Tenure': np.float64(0.23244928074774202), 'Balance': np.float64(2.222743685097366e-26), 'NumOfProducts': np.float64(5.003491171319526e-06), 'EstimatedSalary': np.float64(0.3301525927239536)}\n"
     ]
    }
   ],
   "source": [
    "# ANOVA correlation for numerical features\n",
    "anova_results = {}\n",
    "for feature in numeric_features:\n",
    "    groups = [X_train_combined[feature][y_train == val] for val in np.unique(y_train)]\n",
    "    anova_results[feature] = f_oneway(*groups).pvalue\n",
    "\n",
    "print(\"ANOVA Correlation Results (Numerical Features):\")\n",
    "print(anova_results)"
   ]
  },
  {
   "attachments": {},
   "cell_type": "markdown",
   "metadata": {},
   "source": [
    "Features with significant differences across target groups (low p-value) are likely to be more predictive and relevant for the model. "
   ]
  },
  {
   "attachments": {},
   "cell_type": "markdown",
   "metadata": {},
   "source": [
    "Next step is to encode the categorical features in X_train_combined using LabelEncoder. Each feature's unique categories are converted into numerical labels, and the encoder for each feature is saved for future use."
   ]
  },
  {
   "cell_type": "code",
   "execution_count": 28,
   "metadata": {},
   "outputs": [],
   "source": [
    "# Encode categorical features\n",
    "encoded_categorical_features = {}\n",
    "for feature in categorical_features:\n",
    "    le = LabelEncoder()\n",
    "    X_train_combined[feature] = le.fit_transform(X_train_combined[feature])\n",
    "    encoded_categorical_features[feature] = le  # Save encoder if needed later\n"
   ]
  },
  {
   "attachments": {},
   "cell_type": "markdown",
   "metadata": {},
   "source": [
    "This step calculates mutual information scores for categorical features selection, measuring their dependency on the target variable (y_train). The results indicate how informative each categorical feature is in predicting churn.\n",
    "\n",
    "- Mutual information is used because it measures the dependency between categorical features and the target variable, capturing both linear and non-linear relationships, which helps identify the most informative features for prediction."
   ]
  },
  {
   "cell_type": "code",
   "execution_count": 29,
   "metadata": {},
   "outputs": [
    {
     "name": "stdout",
     "output_type": "stream",
     "text": [
      "Mutual Information Results (Categorical Features):\n",
      "{'Geography': np.float64(0.013456153013178124), 'Gender': np.float64(0.005649165960671304)}\n"
     ]
    }
   ],
   "source": [
    "# Mutual information for categorical features\n",
    "mutual_info_scores = mutual_info_classif(\n",
    "    X_train_combined[categorical_features],\n",
    "    y_train,\n",
    "    discrete_features=True\n",
    ")\n",
    "mutual_info_results = dict(zip(categorical_features, mutual_info_scores))\n",
    "print(\"Mutual Information Results (Categorical Features):\")\n",
    "print(mutual_info_results)"
   ]
  },
  {
   "attachments": {},
   "cell_type": "markdown",
   "metadata": {},
   "source": [
    "This step calculates the point-biserial correlation to measure the strength and direction of the relationship between binary features and the target variable, helping to evaluate their relevance for prediction. The result will be used in feature selection.\n",
    "-  Point-biserial correlation is chosen because it measures the linear relationship between a binary feature and a continuous or binary target, making it ideal for assessing the relevance of binary features in the context of churn prediction."
   ]
  },
  {
   "cell_type": "code",
   "execution_count": 30,
   "metadata": {},
   "outputs": [
    {
     "name": "stdout",
     "output_type": "stream",
     "text": [
      "Point-Biserial Correlation Results (Binary Features):\n",
      "{'HasCreditCard': np.float64(-0.006471396152020638), 'IsActiveMember': np.float64(-0.1565604136661256)}\n"
     ]
    }
   ],
   "source": [
    "# Point-biserial correlation for binary features\n",
    "binary_corr_results = {}\n",
    "for feature in binary_features:\n",
    "    correlation, _ = pointbiserialr(X_train_combined[feature], y_train)\n",
    "    binary_corr_results[feature] = correlation\n",
    "\n",
    "print(\"Point-Biserial Correlation Results (Binary Features):\")\n",
    "print(binary_corr_results)"
   ]
  },
  {
   "attachments": {},
   "cell_type": "markdown",
   "metadata": {},
   "source": [
    "This step below selects the most relevant features for the model based on statistical thresholds: numerical features with ANOVA p-values < 0.05, categorical features with mutual information > 0.01, and binary features with point-biserial correlations > 0.1. All selected features are combined into a final list. The result are the final feature that will be used as selected_features"
   ]
  },
  {
   "cell_type": "code",
   "execution_count": 31,
   "metadata": {},
   "outputs": [
    {
     "name": "stdout",
     "output_type": "stream",
     "text": [
      "Selected Features:\n",
      "['CreditScore', 'Age', 'Balance', 'NumOfProducts', 'Geography', 'IsActiveMember']\n"
     ]
    }
   ],
   "source": [
    "# Select features based on thresholds\n",
    "selected_numeric_features = [feature for feature, pval in anova_results.items() if pval < 0.05]\n",
    "selected_categorical_features = [feature for feature, score in mutual_info_results.items() if score > 0.01]\n",
    "selected_binary_features = [feature for feature, corr in binary_corr_results.items() if abs(corr) > 0.1]\n",
    "\n",
    "# Combine all selected features\n",
    "selected_features = selected_numeric_features + selected_categorical_features + selected_binary_features\n",
    "print(\"Selected Features:\")\n",
    "print(selected_features)"
   ]
  },
  {
   "attachments": {},
   "cell_type": "markdown",
   "metadata": {},
   "source": [
    "This step applies the selected features to both X_train and X_test, retaining only the most relevant columns for further analysis and modeling."
   ]
  },
  {
   "cell_type": "code",
   "execution_count": 32,
   "metadata": {},
   "outputs": [
    {
     "name": "stdout",
     "output_type": "stream",
     "text": [
      "Feature Selection Applied:\n",
      "Selected Features in Training Data:\n",
      "      CreditScore  Age    Balance  NumOfProducts  Geography  IsActiveMember\n",
      "9254          686   32       0.00              2          0               1\n",
      "1561          632   42  119624.60              2          1               1\n",
      "1670          559   24  114739.92              1          2               0\n",
      "6087          561   27  135637.00              1          0               0\n",
      "6669          517   56  142147.32              1          0               0\n"
     ]
    }
   ],
   "source": [
    "# Apply feature selection to X_train and X_test\n",
    "X_train_selected = X_train_combined[selected_features]\n",
    "#X_test_selected = pd.DataFrame(X_test, columns=numeric_features + categorical_features + binary_features)[selected_features]\n",
    "X_test_selected = X_test[selected_features]\n",
    "print(\"Feature Selection Applied:\")\n",
    "print(\"Selected Features in Training Data:\")\n",
    "print(X_train_selected.head())"
   ]
  },
  {
   "attachments": {},
   "cell_type": "markdown",
   "metadata": {},
   "source": [
    "After the feature selection applied, the data containts CreditScore, Age, Balance, NumOfProducts, Geography, and IsActiveMember."
   ]
  },
  {
   "attachments": {},
   "cell_type": "markdown",
   "metadata": {},
   "source": [
    "This step checks the shape of X_train and X_test after feature selection to confirm the dimensions of the reduced datasets is the same for the number of feature."
   ]
  },
  {
   "cell_type": "code",
   "execution_count": 33,
   "metadata": {},
   "outputs": [
    {
     "name": "stdout",
     "output_type": "stream",
     "text": [
      "X_train shape after feature selection: (8000, 6)\n",
      "X_test shape after feature selection: (2000, 6)\n"
     ]
    }
   ],
   "source": [
    "print(f\"X_train shape after feature selection: {X_train_selected.shape}\")\n",
    "print(f\"X_test shape after feature selection: {X_test_selected.shape}\")"
   ]
  },
  {
   "attachments": {},
   "cell_type": "markdown",
   "metadata": {},
   "source": [
    "So, there will be 6 feature that will be use in the train modeling both in X train and X test. And the number of data X train is 8000. And the number of data X test is 2000."
   ]
  },
  {
   "attachments": {},
   "cell_type": "markdown",
   "metadata": {},
   "source": [
    "----scaling for numerical features in X\n",
    "\n",
    "Then, I make a custom scaler as a DynamicScaler Class that automatically applies either StandardScaler or MinMaxScaler to numerical features based on their skewnes:\n",
    "- StandardScaler is used for features with normal distributions.\n",
    "- MinMaxScaler is used for skewed features.\n",
    "\n",
    "The class has two main methods:\n",
    "- fit: Determines and fits the appropriate scaler for each feature (only apply for X_train).\n",
    "- transform: Scales the features using the fitted scalers (for both X_train and X_test).\n",
    "\n",
    "This ensures the numeric features are scaled appropriately, improving the model's performance by standardizing the input data."
   ]
  },
  {
   "cell_type": "code",
   "execution_count": 34,
   "metadata": {},
   "outputs": [],
   "source": [
    "# Step: Distribution-based scaling (StandardScaler for normal distribution, MinMaxScaler for skewed data)\n",
    "# This class and function will choose the appropriate scaler based on skewness\n",
    "class DynamicScaler(BaseEstimator, TransformerMixin):\n",
    "    \"\"\"\n",
    "    A custom scaler that applies either StandardScaler or MinMaxScaler to the numeric features of the dataset \n",
    "    based on the skewness of each feature. StandardScaler is used for normally distributed features, \n",
    "    while MinMaxScaler is applied to skewed features.\n",
    "    \n",
    "    Attributes:\n",
    "        scaler (dict): A dictionary mapping each numeric feature to its respective scaler.\n",
    "    \n",
    "    Methods:\n",
    "        fit(X_train, y=None):\n",
    "            Determines the appropriate scaler for each numeric feature based on its skewness and fits the scaler to the data.\n",
    "        \n",
    "        transform(X):\n",
    "            Scales the numeric features using the previously fitted scalers and returns the transformed dataset.\n",
    "    \"\"\"\n",
    "    def __init__(self):\n",
    "        self.scaler = {}\n",
    "    \n",
    "    def fit(self, X_train, y=None):\n",
    "        \"\"\"\n",
    "        Fits the appropriate scaler (StandardScaler or MinMaxScaler) to each numeric feature \n",
    "        based on its skewness. If the skewness is > 0.5, MinMaxScaler is used; \n",
    "        otherwise, StandardScaler is applied.\n",
    "        \n",
    "        Parameters:\n",
    "        X_train:pd.DataFrame\n",
    "            The training data containing the numeric features that need to be scaled.\n",
    "        \n",
    "        y:array-like, optional, default=None\n",
    "            The target variable. Not used in this method, but included for compatibility with scikit-learn's fit method.\n",
    "        \n",
    "        Returns:\n",
    "        self:object\n",
    "            The fitted scaler instance, allowing for method chaining.\n",
    "        \"\"\"\n",
    "        skewness = X_train.skew()\n",
    "        for feature in numeric_features:\n",
    "            if feature in X_train.columns:\n",
    "                if abs(skewness[feature]) > 0.5:\n",
    "                    self.scaler[feature] = MinMaxScaler()\n",
    "                else:\n",
    "                    self.scaler[feature] = StandardScaler()\n",
    "                self.scaler[feature].fit(X[[feature]])\n",
    "        return self\n",
    "    \n",
    "    def transform(self, X):\n",
    "        \"\"\"\n",
    "        Transforms the dataset by scaling each numeric feature according to its fitted scaler.\n",
    "        \n",
    "        Parameters:\n",
    "        X:pd.DataFrame\n",
    "            The dataset to be transformed, containing the numeric features to scale.\n",
    "        \n",
    "        Returns:\n",
    "        X_transformed:pd.DataFrame\n",
    "            The transformed dataset where the numeric features have been scaled using the appropriate scaler.\n",
    "        \"\"\"\n",
    "        X_transformed = X.copy()\n",
    "        for feature in numeric_features:\n",
    "            X_transformed[feature] = self.scaler[feature].transform(X[[feature]])\n",
    "        return X_transformed"
   ]
  },
  {
   "attachments": {},
   "cell_type": "markdown",
   "metadata": {},
   "source": [
    "The code creates a preprocessing pipeline for numeric features, using the DynamicScaler to automatically scale each feature based on its distribution:\n",
    "- StandardScaler for normally distributed features.\n",
    "- MinMaxScaler for skewed features.\n",
    "\n",
    "This ensures numeric data is scaled appropriately before being fed into the machine learning model."
   ]
  },
  {
   "cell_type": "code",
   "execution_count": 35,
   "metadata": {},
   "outputs": [],
   "source": [
    "# Create preprocessing pipeline for numeric features (scaling based on distribution)\n",
    "scaler_pipeline = Pipeline([\n",
    "    ('dynamic_scaler', DynamicScaler())  # Apply dynamic scaling based on skewness\n",
    "])"
   ]
  },
  {
   "attachments": {},
   "cell_type": "markdown",
   "metadata": {},
   "source": [
    "This step updates numeric_features to include only the numeric features selected during the feature selection process."
   ]
  },
  {
   "cell_type": "code",
   "execution_count": 36,
   "metadata": {},
   "outputs": [],
   "source": [
    "# Update numeric_features to include only the selected numeric features\n",
    "numeric_features = selected_numeric_features"
   ]
  },
  {
   "attachments": {},
   "cell_type": "markdown",
   "metadata": {},
   "source": [
    "This creates an updated preprocessing pipeline that scales selected numeric features, encodes selected categorical features, and passes through binary features without modification."
   ]
  },
  {
   "cell_type": "code",
   "execution_count": 37,
   "metadata": {},
   "outputs": [],
   "source": [
    "# Create the updated preprocessing pipeline\n",
    "preprocessor = ColumnTransformer([\n",
    "    ('num', scaler_pipeline, numeric_features),  # Updated numeric features\n",
    "    ('cat', FunctionTransformer(lambda x: x.apply(LabelEncoder().fit_transform)), selected_categorical_features),  # Encode categorical features\n",
    "    ('binary', 'passthrough', selected_binary_features)\n",
    "])"
   ]
  },
  {
   "attachments": {},
   "cell_type": "markdown",
   "metadata": {},
   "source": [
    "Next, the preprocessor is applied to fit and transform X_train_selected and transform X_test_selected. Fit only for X_train. The shapes of the processed datasets are displayed to confirm successful preprocessing."
   ]
  },
  {
   "cell_type": "code",
   "execution_count": 38,
   "metadata": {},
   "outputs": [
    {
     "name": "stdout",
     "output_type": "stream",
     "text": [
      "X_train_processed shape: (8000, 6)\n",
      "X_test_processed shape: (2000, 6)\n"
     ]
    }
   ],
   "source": [
    "# Fit the preprocessor on X_train_selected and transform both datasets\n",
    "X_train_processed = preprocessor.fit_transform(X_train_selected)\n",
    "X_test_processed = preprocessor.transform(X_test_selected)\n",
    "\n",
    "# Check the shapes after preprocessing\n",
    "print(f\"X_train_processed shape: {X_train_processed.shape}\")\n",
    "print(f\"X_test_processed shape: {X_test_processed.shape}\")\n"
   ]
  },
  {
   "attachments": {},
   "cell_type": "markdown",
   "metadata": {},
   "source": [
    "### vi. MODEL DEFINITION"
   ]
  },
  {
   "attachments": {},
   "cell_type": "markdown",
   "metadata": {},
   "source": [
    "In this section, I defines a dictionary of machine learning models with their default parameters, which will be used as baseline models for comparison:\n",
    "- KNN: K-Nearest Neighbors classifier.\n",
    "- SVM: Support Vector Machine classifier.\n",
    "- DecisionTree: Decision Tree classifier with a fixed random state for reproducibility.\n",
    "- RandomForest: Random Forest classifier with a fixed random state.\n",
    "- XGBoost: Extreme Gradient Boosting classifier configured for multi-log loss evaluation.\n",
    "\n",
    "These models will be trained and evaluated to identify the best-performing algorithm for predicting customer churn."
   ]
  },
  {
   "cell_type": "code",
   "execution_count": 39,
   "metadata": {},
   "outputs": [],
   "source": [
    "# Step: Model Definitions (using default parameters, baseline model)\n",
    "models = {\n",
    "    'KNN': KNeighborsClassifier(),\n",
    "    'SVM': SVC(),\n",
    "    'DecisionTree': DecisionTreeClassifier(random_state=42),\n",
    "    'RandomForest': RandomForestClassifier(random_state=42),\n",
    "    'XGBoost': XGBClassifier(eval_metric='mlogloss', use_label_encoder=False, random_state=42)\n",
    "}"
   ]
  },
  {
   "attachments": {},
   "cell_type": "markdown",
   "metadata": {},
   "source": [
    "I define a function that creates a pipeline that combines the preprocessing steps (preprocessor) with a specified machine learning model (classifier). It ensures the data is preprocessed and passed directly into the model for training and prediction, streamlining the workflow."
   ]
  },
  {
   "cell_type": "code",
   "execution_count": 40,
   "metadata": {},
   "outputs": [],
   "source": [
    "# Create pipeline with preprocessing and model\n",
    "def create_pipeline(model):\n",
    "    return Pipeline([\n",
    "        ('preprocessor', preprocessor),\n",
    "        ('classifier', model)\n",
    "    ])"
   ]
  },
  {
   "attachments": {},
   "cell_type": "markdown",
   "metadata": {},
   "source": [
    "### vii. MODEL TRAINING AND MODEL EVALUATION"
   ]
  },
  {
   "attachments": {},
   "cell_type": "markdown",
   "metadata": {},
   "source": [
    "Then, I make a code to trains and evaluate each machine learning model in the models dictionary using the preprocessing pipeline and stores the trained pipelines in the trained_models dictionary. It ensures each model is trained with the same preprocessing steps applied to the data."
   ]
  },
  {
   "attachments": {},
   "cell_type": "markdown",
   "metadata": {},
   "source": [
    "- Model training: The code trains multiple models defined in the models dictionary using a pipeline that includes preprocessing and model training. Trained models are stored in the trained_models dictionary with the model name as the key.\n",
    "- The evaluation metric used is the F1-score, which balances precision and recall, suitable for imbalanced datasets like churn prediction. The mean and standard deviation of the F1-scores across the folds are calculated and printed."
   ]
  },
  {
   "attachments": {},
   "cell_type": "markdown",
   "metadata": {},
   "source": [
    "why do I choose f-1 score metrics for model evaluation?\n",
    "- Metrics like accuracy can be misleading, as a model predicting \"no churn\" for all instances could still achieve high accuracy despite failing to identify actual churners\n",
    "- The F1-score is the harmonic mean of precision and recall, ensuring that both false positives (predicting churn when it didn’t occur) and false negatives (failing to predict actual churn) are accounted for. For churn, precision ensures targeted efforts on customers likely to churn, and recall ensures that most churners are identified.\n",
    "- False negatives (missed churners) lead to customer loss, impacting revenue. False positives (predicting churn incorrectly) might waste resources on unnecessary retention strategies. F1-score balances these outcomes, optimizing both retention efforts and costs.\n",
    "- The F1-score is ideal for binary classification problems like churn, where identifying the minority class (churners) is critical.\n",
    "\n",
    "> By using the F1-score, it ensure the model's predictions are both effective and efficient in addressing the business goal of retaining customers."
   ]
  },
  {
   "cell_type": "code",
   "execution_count": 41,
   "metadata": {},
   "outputs": [
    {
     "name": "stdout",
     "output_type": "stream",
     "text": [
      "KNN - Cross-Validation Results:\n",
      "Mean: 0.4313\n",
      "Standard Deviation: 0.0234\n",
      "KNN - Classification Report:\n",
      "              precision    recall  f1-score   support\n",
      "\n",
      "           0       0.86      0.95      0.90      1607\n",
      "           1       0.65      0.36      0.47       393\n",
      "\n",
      "    accuracy                           0.84      2000\n",
      "   macro avg       0.75      0.66      0.68      2000\n",
      "weighted avg       0.82      0.84      0.82      2000\n",
      "\n",
      "================================================================================\n",
      "SVM - Cross-Validation Results:\n",
      "Mean: 0.2566\n",
      "Standard Deviation: 0.0232\n",
      "SVM - Classification Report:\n",
      "              precision    recall  f1-score   support\n",
      "\n",
      "           0       0.83      0.99      0.90      1607\n",
      "           1       0.84      0.16      0.27       393\n",
      "\n",
      "    accuracy                           0.83      2000\n",
      "   macro avg       0.84      0.58      0.59      2000\n",
      "weighted avg       0.83      0.83      0.78      2000\n",
      "\n",
      "================================================================================\n",
      "DecisionTree - Cross-Validation Results:\n",
      "Mean: 0.4951\n",
      "Standard Deviation: 0.0210\n",
      "DecisionTree - Classification Report:\n",
      "              precision    recall  f1-score   support\n",
      "\n",
      "           0       0.88      0.88      0.88      1607\n",
      "           1       0.51      0.53      0.52       393\n",
      "\n",
      "    accuracy                           0.81      2000\n",
      "   macro avg       0.70      0.71      0.70      2000\n",
      "weighted avg       0.81      0.81      0.81      2000\n",
      "\n",
      "================================================================================\n",
      "RandomForest - Cross-Validation Results:\n",
      "Mean: 0.5745\n",
      "Standard Deviation: 0.0207\n",
      "RandomForest - Classification Report:\n",
      "              precision    recall  f1-score   support\n",
      "\n",
      "           0       0.89      0.94      0.91      1607\n",
      "           1       0.69      0.50      0.58       393\n",
      "\n",
      "    accuracy                           0.86      2000\n",
      "   macro avg       0.79      0.72      0.75      2000\n",
      "weighted avg       0.85      0.86      0.85      2000\n",
      "\n",
      "================================================================================\n",
      "XGBoost - Cross-Validation Results:\n",
      "Mean: 0.5747\n",
      "Standard Deviation: 0.0163\n",
      "XGBoost - Classification Report:\n",
      "              precision    recall  f1-score   support\n",
      "\n",
      "           0       0.89      0.95      0.92      1607\n",
      "           1       0.72      0.51      0.60       393\n",
      "\n",
      "    accuracy                           0.86      2000\n",
      "   macro avg       0.80      0.73      0.76      2000\n",
      "weighted avg       0.85      0.86      0.86      2000\n",
      "\n",
      "================================================================================\n"
     ]
    }
   ],
   "source": [
    "# Train and Evaluate Models\n",
    "trained_models = {}\n",
    "for name, model in models.items():\n",
    "    pipeline = create_pipeline(model)\n",
    "\n",
    "    # Train the model\n",
    "    pipeline.fit(X_train_selected, y_train)\n",
    "    trained_models[name] = pipeline\n",
    "\n",
    "    # Evaluate the model using cross-validation\n",
    "    cv_results = cross_validate(pipeline, X_train_selected, y_train, cv=5, scoring='f1', return_train_score=False)\n",
    "    print(f\"{name} - Cross-Validation Results:\")\n",
    "    print(f\"Mean: {np.mean(cv_results['test_score']):.4f}\")\n",
    "    print(f\"Standard Deviation: {np.std(cv_results['test_score']):.4f}\")\n",
    "\n",
    "    # Predict on test data\n",
    "    y_pred = pipeline.predict(X_test_selected)\n",
    "    print(f\"{name} - Classification Report:\")\n",
    "    print(classification_report(y_test, y_pred))\n",
    "    print(\"=\" * 80)"
   ]
  },
  {
   "attachments": {},
   "cell_type": "markdown",
   "metadata": {},
   "source": [
    "I make a code to evaluates each model by performing 5-fold cross-validation and calculates the mean recall and standard deviation for each model that has been defined in the model definition section. It then trains the models on the full training dataset, makes predictions on the test data, and prints a classification report to summarize the performance. This process helps compare the models to identify the best one for the task.\n"
   ]
  },
  {
   "attachments": {},
   "cell_type": "markdown",
   "metadata": {},
   "source": [
    "- Model using KNN:\n",
    "    - F1-Score (Class 1): 0.47 - quite high\n",
    "    - Moderate precision (65%) but very low recall (36%) indicates the model struggles to identify actual churners.\n",
    "    - High false negatives reduce its reliability for churn prediction.\n",
    "- Model using SVM:\n",
    "    - F1-Score (Class 1): 0.27 - the lowest \n",
    "    - Extremely low recall (16%) means most churners are missed, even though precision is high (84%).\n",
    "    - This makes the model unsuitable for churn prediction as it fails to capture the minority class effectively.\n",
    "- Decision Tree:\n",
    "    - F1-Score (Class 1): 0.52 - quite hight, higher than KNN and SVM\n",
    "    - Balanced recall (53%) and precision (51%), but both are still relatively low.\n",
    "    - Performs better than SVM and KNN for churn but lacks robustness.\n",
    "- Random Forest:\n",
    "    - F1-Score (Class 1): 0.58 - higher than the previous model\n",
    "    - Improved precision (69%) and recall (50%) compared to simpler models.\n",
    "    - Shows better performance in identifying churners while maintaining decent accuracy for the minority class.\n",
    "- XGBoost:\n",
    "    - F1-Score (Class 1): 0.60 - the highest beetwen other model\n",
    "    - Best performance among all models, with precision (72%) and recall (51%) demonstrating a better trade-off.\n",
    "    - Handles class imbalance more effectively, making it a reliable option for churn prediction.\n",
    "- XGBoost achieves the highest F1-Score for class 1 (churn), showing its capability to balance precision and recall for the minority class.\n",
    "- Random Forest is a close second and could also be considered for further tuning.\n",
    "- SVM and KNN fail to capture churners effectively, making them less suitable for this problem.\n",
    "- Focusing on models like XGBoost or Random Forest and enhancing their performance (e.g., through hyperparameter tuning) is recommended for accurate churn prediction"
   ]
  },
  {
   "attachments": {},
   "cell_type": "markdown",
   "metadata": {},
   "source": [
    "> **The Benefit of using XGBoost Model:**\n",
    "    XGBoost is a powerful model that can handle large datasets with diverse features and outliers without requiring manual adjustments. This is particularly useful in the banking domain, where data variability such as differences in age, balance, or number of products plays a crucial role in understanding customer behavior and predicting churn effectively."
   ]
  },
  {
   "attachments": {},
   "cell_type": "markdown",
   "metadata": {},
   "source": [
    "This code below is to prepare and train a pipeline using the XGBoost model:\n",
    "- Model Selection: Retrieves the XGBoost model from the pre-defined models dictionary.\n",
    "- Pipeline Creation: Combines preprocessing steps (preprocessor) with the XGBoost classifier into a single pipeline called pipeline_base_model.\n",
    "- Model Training: Fits the pipeline on the training data (X_train_selected and y_train).\n",
    "- Predictions: Generates predictions for both the training (y_train_pred) and test data (y_test_pred).\n",
    "\n",
    "This step sets up the XGBoost model as a baseline before performing hyperparameter tuning."
   ]
  },
  {
   "cell_type": "code",
   "execution_count": 42,
   "metadata": {},
   "outputs": [],
   "source": [
    "# Step before hyperparameter tuning\n",
    "# Get the XGBoost model from the 'models' dictionary\n",
    "xgboost_model = models['XGBoost']\n",
    "\n",
    "# Create pipeline with preprocessing and XGBoost classifier\n",
    "pipeline_base_model = Pipeline([\n",
    "    ('preprocessor', preprocessor),\n",
    "    ('classifier', xgboost_model)\n",
    "])\n",
    "\n",
    "# Fit the pipeline on the training data\n",
    "pipeline_base_model.fit(X_train_selected, y_train)\n",
    "\n",
    "# Predictions on training data\n",
    "y_train_pred = pipeline_base_model.predict(X_train_selected)\n",
    "\n",
    "# Predictions on test data\n",
    "y_test_pred = pipeline_base_model.predict(X_test_selected)"
   ]
  },
  {
   "attachments": {},
   "cell_type": "markdown",
   "metadata": {},
   "source": [
    "Next, evaluates the model's performance on the training data by calculating:\n",
    "    - Accuracy: The percentage of correct predictions.\n",
    "    - F1-Score: A balance between precision and recall.\n",
    "    - Confusion Matrix: A detailed breakdown of predictions versus actual values.\n",
    "\n",
    "It provides insight into how well the model fits the training data."
   ]
  },
  {
   "cell_type": "code",
   "execution_count": 43,
   "metadata": {},
   "outputs": [
    {
     "name": "stdout",
     "output_type": "stream",
     "text": [
      "Training Metrics:\n",
      "Accuracy: 0.9290\n",
      "F1-Score: 0.8056\n",
      "Confusion Matrix (Training):\n",
      "[[6255  101]\n",
      " [ 467 1177]]\n",
      "================================================================================\n"
     ]
    }
   ],
   "source": [
    "# Metrics for Training Data\n",
    "train_accuracy = accuracy_score(y_train, y_train_pred)\n",
    "train_f1 = f1_score(y_train, y_train_pred)\n",
    "print(\"Training Metrics:\")\n",
    "print(f\"Accuracy: {train_accuracy:.4f}\")\n",
    "print(f\"F1-Score: {train_f1:.4f}\")\n",
    "print(\"Confusion Matrix (Training):\")\n",
    "print(confusion_matrix(y_train, y_train_pred))\n",
    "print(\"=\" * 80)"
   ]
  },
  {
   "attachments": {},
   "cell_type": "markdown",
   "metadata": {},
   "source": [
    "This code below is to evaluate the model's performance on the test data like I do previously in training data."
   ]
  },
  {
   "cell_type": "code",
   "execution_count": 44,
   "metadata": {},
   "outputs": [
    {
     "name": "stdout",
     "output_type": "stream",
     "text": [
      "Test Metrics:\n",
      "Accuracy: 0.8645\n",
      "F1-Score: 0.5961\n",
      "Confusion Matrix (Test):\n",
      "[[1529   78]\n",
      " [ 193  200]]\n",
      "================================================================================\n"
     ]
    }
   ],
   "source": [
    "# Metrics for Test Data\n",
    "test_accuracy = accuracy_score(y_test, y_test_pred)\n",
    "test_f1 = f1_score(y_test, y_test_pred)\n",
    "print(\"Test Metrics:\")\n",
    "print(f\"Accuracy: {test_accuracy:.4f}\")\n",
    "print(f\"F1-Score: {test_f1:.4f}\")\n",
    "print(\"Confusion Matrix (Test):\")\n",
    "print(confusion_matrix(y_test, y_test_pred))\n",
    "print(\"=\" * 80)"
   ]
  },
  {
   "attachments": {},
   "cell_type": "markdown",
   "metadata": {},
   "source": [
    "Insight from metrics both in training and testing data:\n",
    "- Accuracy:\n",
    "    - Training accuracy: 92.90%\n",
    "    - Test accuracy: 86.45%\n",
    "    - There is a slight decrease (~6.45%), but it is still within reasonable limits. This indicates that the model is not too overfitting.\n",
    "- F1-Score:\n",
    "    - Training F1-Score: 0.8056\n",
    "    - Test F1-Score: 0.5961\n",
    "    - The decrease in F1-Score from training to test is quite significant (~20.95%). This may indicate that the model still has some signs of overfitting, especially in the prediction of minority classes or data that was not seen during training.\n",
    "- The model was able to achieve a test set accuracy of 86.45%, which indicates quite good generalization to new data. However, the lower test set F1-Score (0.5961) indicates that the model may be less than optimal for handling positive class predictions (200/393).\n",
    "- The model is quite good, but has slight signs of overfitting, especially seen from the decrease in F1-Score on the test set.\n",
    "\n",
    "> The model likely overfits the training data. Further actions like hyperparameter tuning, addressing class imbalance (e.g. SMOTE), or simplifying the model may help improve generalization."
   ]
  },
  {
   "attachments": {},
   "cell_type": "markdown",
   "metadata": {},
   "source": [
    "### viii. HYPERPARAMETER TUNING FOR BEST MODEL WITH TRAIN AND EVALUATION"
   ]
  },
  {
   "attachments": {},
   "cell_type": "markdown",
   "metadata": {},
   "source": [
    "From previous step, we got that XGBoost is the best model to use in this context based on the results of model evaluation and analysis. To optimize the performances from the best model,  performs hyperparameter tuning for the XGBoost model using SMOTE and GridSearchCV with 5-fold cross-validation. It tests different combinations of parameters (e.g. learning rate, depth, estimators) to find the optimal configuration.\n",
    "- Best Parameters: The most effective hyperparameters are identified and displayed.\n",
    "- Model Evaluation: The tuned model is evaluated on the test set, and a classification report is printed.\n",
    "- Cross-Validation Results: The mean and standard deviation of recall from the cross-validation process are calculated and shown.\n",
    "\n",
    "This step ensures the model is fine-tuned for maximum performance in identifying churned customers."
   ]
  },
  {
   "attachments": {},
   "cell_type": "markdown",
   "metadata": {},
   "source": [
    "First, a pipeline is created that integrates SMOTE for oversampling the minority class, preprocessing steps (scaling, encoding, and feature selection), and the XGBoost model for training and prediction."
   ]
  },
  {
   "cell_type": "code",
   "execution_count": 45,
   "metadata": {},
   "outputs": [],
   "source": [
    "# Define SMOTE for oversampling\n",
    "smote = SMOTE(random_state=42)"
   ]
  },
  {
   "cell_type": "code",
   "execution_count": 46,
   "metadata": {},
   "outputs": [],
   "source": [
    "# Define the pipeline for XGBoost with SMOTE\n",
    "pipeline_smote_model = ImbPipeline([\n",
    "    ('smote', smote),                   # SMOTE for oversampling\n",
    "    ('preprocessor', preprocessor),    # Preprocessing steps (scaling, encoding, feature selection)\n",
    "    ('classifier', xgboost_model)      # XGBoost model\n",
    "])"
   ]
  },
  {
   "attachments": {},
   "cell_type": "markdown",
   "metadata": {},
   "source": [
    "A parameter grid is defined to explore different hyperparameter combinations for the XGBoost model, including learning rate, max depth, number of estimators, subsample ratio, and column sampling by tree."
   ]
  },
  {
   "cell_type": "code",
   "execution_count": 47,
   "metadata": {},
   "outputs": [],
   "source": [
    "# Define the parameter grid for GridSearchCV\n",
    "param_grid = {\n",
    "    'classifier__learning_rate': [0.01, 0.1, 0.2],\n",
    "    'classifier__max_depth': [3, 4, 5],\n",
    "    'classifier__n_estimators': [100, 200],\n",
    "    'classifier__subsample': [0.8, 1.0],\n",
    "    'classifier__colsample_bytree': [0.8, 1.0],\n",
    "}\n"
   ]
  },
  {
   "attachments": {},
   "cell_type": "markdown",
   "metadata": {},
   "source": [
    "Then, GridSearchCV is set up to tune the XGBoost model within a pipeline using SMOTE for oversampling, evaluating combinations of hyperparameters based on the F1-score metric with 5-fold cross-validation."
   ]
  },
  {
   "cell_type": "code",
   "execution_count": 48,
   "metadata": {},
   "outputs": [],
   "source": [
    "# Define the scoring metric\n",
    "scoring_metric = make_scorer(f1_score)\n",
    "\n",
    "# Perform GridSearchCV with SMOTE\n",
    "grid_search_smote = GridSearchCV(\n",
    "    estimator=pipeline_smote_model,\n",
    "    param_grid=param_grid,\n",
    "    scoring=scoring_metric,\n",
    "    cv=5,\n",
    "    n_jobs=-1\n",
    ")"
   ]
  },
  {
   "attachments": {},
   "cell_type": "markdown",
   "metadata": {},
   "source": [
    "The pipeline with SMOTE and GridSearchCV is fitted to the training data to find the best hyperparameters for the XGBoost model."
   ]
  },
  {
   "cell_type": "code",
   "execution_count": 49,
   "metadata": {},
   "outputs": [
    {
     "data": {
      "text/html": [
       "<style>#sk-container-id-1 {\n",
       "  /* Definition of color scheme common for light and dark mode */\n",
       "  --sklearn-color-text: black;\n",
       "  --sklearn-color-line: gray;\n",
       "  /* Definition of color scheme for unfitted estimators */\n",
       "  --sklearn-color-unfitted-level-0: #fff5e6;\n",
       "  --sklearn-color-unfitted-level-1: #f6e4d2;\n",
       "  --sklearn-color-unfitted-level-2: #ffe0b3;\n",
       "  --sklearn-color-unfitted-level-3: chocolate;\n",
       "  /* Definition of color scheme for fitted estimators */\n",
       "  --sklearn-color-fitted-level-0: #f0f8ff;\n",
       "  --sklearn-color-fitted-level-1: #d4ebff;\n",
       "  --sklearn-color-fitted-level-2: #b3dbfd;\n",
       "  --sklearn-color-fitted-level-3: cornflowerblue;\n",
       "\n",
       "  /* Specific color for light theme */\n",
       "  --sklearn-color-text-on-default-background: var(--sg-text-color, var(--theme-code-foreground, var(--jp-content-font-color1, black)));\n",
       "  --sklearn-color-background: var(--sg-background-color, var(--theme-background, var(--jp-layout-color0, white)));\n",
       "  --sklearn-color-border-box: var(--sg-text-color, var(--theme-code-foreground, var(--jp-content-font-color1, black)));\n",
       "  --sklearn-color-icon: #696969;\n",
       "\n",
       "  @media (prefers-color-scheme: dark) {\n",
       "    /* Redefinition of color scheme for dark theme */\n",
       "    --sklearn-color-text-on-default-background: var(--sg-text-color, var(--theme-code-foreground, var(--jp-content-font-color1, white)));\n",
       "    --sklearn-color-background: var(--sg-background-color, var(--theme-background, var(--jp-layout-color0, #111)));\n",
       "    --sklearn-color-border-box: var(--sg-text-color, var(--theme-code-foreground, var(--jp-content-font-color1, white)));\n",
       "    --sklearn-color-icon: #878787;\n",
       "  }\n",
       "}\n",
       "\n",
       "#sk-container-id-1 {\n",
       "  color: var(--sklearn-color-text);\n",
       "}\n",
       "\n",
       "#sk-container-id-1 pre {\n",
       "  padding: 0;\n",
       "}\n",
       "\n",
       "#sk-container-id-1 input.sk-hidden--visually {\n",
       "  border: 0;\n",
       "  clip: rect(1px 1px 1px 1px);\n",
       "  clip: rect(1px, 1px, 1px, 1px);\n",
       "  height: 1px;\n",
       "  margin: -1px;\n",
       "  overflow: hidden;\n",
       "  padding: 0;\n",
       "  position: absolute;\n",
       "  width: 1px;\n",
       "}\n",
       "\n",
       "#sk-container-id-1 div.sk-dashed-wrapped {\n",
       "  border: 1px dashed var(--sklearn-color-line);\n",
       "  margin: 0 0.4em 0.5em 0.4em;\n",
       "  box-sizing: border-box;\n",
       "  padding-bottom: 0.4em;\n",
       "  background-color: var(--sklearn-color-background);\n",
       "}\n",
       "\n",
       "#sk-container-id-1 div.sk-container {\n",
       "  /* jupyter's `normalize.less` sets `[hidden] { display: none; }`\n",
       "     but bootstrap.min.css set `[hidden] { display: none !important; }`\n",
       "     so we also need the `!important` here to be able to override the\n",
       "     default hidden behavior on the sphinx rendered scikit-learn.org.\n",
       "     See: https://github.com/scikit-learn/scikit-learn/issues/21755 */\n",
       "  display: inline-block !important;\n",
       "  position: relative;\n",
       "}\n",
       "\n",
       "#sk-container-id-1 div.sk-text-repr-fallback {\n",
       "  display: none;\n",
       "}\n",
       "\n",
       "div.sk-parallel-item,\n",
       "div.sk-serial,\n",
       "div.sk-item {\n",
       "  /* draw centered vertical line to link estimators */\n",
       "  background-image: linear-gradient(var(--sklearn-color-text-on-default-background), var(--sklearn-color-text-on-default-background));\n",
       "  background-size: 2px 100%;\n",
       "  background-repeat: no-repeat;\n",
       "  background-position: center center;\n",
       "}\n",
       "\n",
       "/* Parallel-specific style estimator block */\n",
       "\n",
       "#sk-container-id-1 div.sk-parallel-item::after {\n",
       "  content: \"\";\n",
       "  width: 100%;\n",
       "  border-bottom: 2px solid var(--sklearn-color-text-on-default-background);\n",
       "  flex-grow: 1;\n",
       "}\n",
       "\n",
       "#sk-container-id-1 div.sk-parallel {\n",
       "  display: flex;\n",
       "  align-items: stretch;\n",
       "  justify-content: center;\n",
       "  background-color: var(--sklearn-color-background);\n",
       "  position: relative;\n",
       "}\n",
       "\n",
       "#sk-container-id-1 div.sk-parallel-item {\n",
       "  display: flex;\n",
       "  flex-direction: column;\n",
       "}\n",
       "\n",
       "#sk-container-id-1 div.sk-parallel-item:first-child::after {\n",
       "  align-self: flex-end;\n",
       "  width: 50%;\n",
       "}\n",
       "\n",
       "#sk-container-id-1 div.sk-parallel-item:last-child::after {\n",
       "  align-self: flex-start;\n",
       "  width: 50%;\n",
       "}\n",
       "\n",
       "#sk-container-id-1 div.sk-parallel-item:only-child::after {\n",
       "  width: 0;\n",
       "}\n",
       "\n",
       "/* Serial-specific style estimator block */\n",
       "\n",
       "#sk-container-id-1 div.sk-serial {\n",
       "  display: flex;\n",
       "  flex-direction: column;\n",
       "  align-items: center;\n",
       "  background-color: var(--sklearn-color-background);\n",
       "  padding-right: 1em;\n",
       "  padding-left: 1em;\n",
       "}\n",
       "\n",
       "\n",
       "/* Toggleable style: style used for estimator/Pipeline/ColumnTransformer box that is\n",
       "clickable and can be expanded/collapsed.\n",
       "- Pipeline and ColumnTransformer use this feature and define the default style\n",
       "- Estimators will overwrite some part of the style using the `sk-estimator` class\n",
       "*/\n",
       "\n",
       "/* Pipeline and ColumnTransformer style (default) */\n",
       "\n",
       "#sk-container-id-1 div.sk-toggleable {\n",
       "  /* Default theme specific background. It is overwritten whether we have a\n",
       "  specific estimator or a Pipeline/ColumnTransformer */\n",
       "  background-color: var(--sklearn-color-background);\n",
       "}\n",
       "\n",
       "/* Toggleable label */\n",
       "#sk-container-id-1 label.sk-toggleable__label {\n",
       "  cursor: pointer;\n",
       "  display: block;\n",
       "  width: 100%;\n",
       "  margin-bottom: 0;\n",
       "  padding: 0.5em;\n",
       "  box-sizing: border-box;\n",
       "  text-align: center;\n",
       "}\n",
       "\n",
       "#sk-container-id-1 label.sk-toggleable__label-arrow:before {\n",
       "  /* Arrow on the left of the label */\n",
       "  content: \"▸\";\n",
       "  float: left;\n",
       "  margin-right: 0.25em;\n",
       "  color: var(--sklearn-color-icon);\n",
       "}\n",
       "\n",
       "#sk-container-id-1 label.sk-toggleable__label-arrow:hover:before {\n",
       "  color: var(--sklearn-color-text);\n",
       "}\n",
       "\n",
       "/* Toggleable content - dropdown */\n",
       "\n",
       "#sk-container-id-1 div.sk-toggleable__content {\n",
       "  max-height: 0;\n",
       "  max-width: 0;\n",
       "  overflow: hidden;\n",
       "  text-align: left;\n",
       "  /* unfitted */\n",
       "  background-color: var(--sklearn-color-unfitted-level-0);\n",
       "}\n",
       "\n",
       "#sk-container-id-1 div.sk-toggleable__content.fitted {\n",
       "  /* fitted */\n",
       "  background-color: var(--sklearn-color-fitted-level-0);\n",
       "}\n",
       "\n",
       "#sk-container-id-1 div.sk-toggleable__content pre {\n",
       "  margin: 0.2em;\n",
       "  border-radius: 0.25em;\n",
       "  color: var(--sklearn-color-text);\n",
       "  /* unfitted */\n",
       "  background-color: var(--sklearn-color-unfitted-level-0);\n",
       "}\n",
       "\n",
       "#sk-container-id-1 div.sk-toggleable__content.fitted pre {\n",
       "  /* unfitted */\n",
       "  background-color: var(--sklearn-color-fitted-level-0);\n",
       "}\n",
       "\n",
       "#sk-container-id-1 input.sk-toggleable__control:checked~div.sk-toggleable__content {\n",
       "  /* Expand drop-down */\n",
       "  max-height: 200px;\n",
       "  max-width: 100%;\n",
       "  overflow: auto;\n",
       "}\n",
       "\n",
       "#sk-container-id-1 input.sk-toggleable__control:checked~label.sk-toggleable__label-arrow:before {\n",
       "  content: \"▾\";\n",
       "}\n",
       "\n",
       "/* Pipeline/ColumnTransformer-specific style */\n",
       "\n",
       "#sk-container-id-1 div.sk-label input.sk-toggleable__control:checked~label.sk-toggleable__label {\n",
       "  color: var(--sklearn-color-text);\n",
       "  background-color: var(--sklearn-color-unfitted-level-2);\n",
       "}\n",
       "\n",
       "#sk-container-id-1 div.sk-label.fitted input.sk-toggleable__control:checked~label.sk-toggleable__label {\n",
       "  background-color: var(--sklearn-color-fitted-level-2);\n",
       "}\n",
       "\n",
       "/* Estimator-specific style */\n",
       "\n",
       "/* Colorize estimator box */\n",
       "#sk-container-id-1 div.sk-estimator input.sk-toggleable__control:checked~label.sk-toggleable__label {\n",
       "  /* unfitted */\n",
       "  background-color: var(--sklearn-color-unfitted-level-2);\n",
       "}\n",
       "\n",
       "#sk-container-id-1 div.sk-estimator.fitted input.sk-toggleable__control:checked~label.sk-toggleable__label {\n",
       "  /* fitted */\n",
       "  background-color: var(--sklearn-color-fitted-level-2);\n",
       "}\n",
       "\n",
       "#sk-container-id-1 div.sk-label label.sk-toggleable__label,\n",
       "#sk-container-id-1 div.sk-label label {\n",
       "  /* The background is the default theme color */\n",
       "  color: var(--sklearn-color-text-on-default-background);\n",
       "}\n",
       "\n",
       "/* On hover, darken the color of the background */\n",
       "#sk-container-id-1 div.sk-label:hover label.sk-toggleable__label {\n",
       "  color: var(--sklearn-color-text);\n",
       "  background-color: var(--sklearn-color-unfitted-level-2);\n",
       "}\n",
       "\n",
       "/* Label box, darken color on hover, fitted */\n",
       "#sk-container-id-1 div.sk-label.fitted:hover label.sk-toggleable__label.fitted {\n",
       "  color: var(--sklearn-color-text);\n",
       "  background-color: var(--sklearn-color-fitted-level-2);\n",
       "}\n",
       "\n",
       "/* Estimator label */\n",
       "\n",
       "#sk-container-id-1 div.sk-label label {\n",
       "  font-family: monospace;\n",
       "  font-weight: bold;\n",
       "  display: inline-block;\n",
       "  line-height: 1.2em;\n",
       "}\n",
       "\n",
       "#sk-container-id-1 div.sk-label-container {\n",
       "  text-align: center;\n",
       "}\n",
       "\n",
       "/* Estimator-specific */\n",
       "#sk-container-id-1 div.sk-estimator {\n",
       "  font-family: monospace;\n",
       "  border: 1px dotted var(--sklearn-color-border-box);\n",
       "  border-radius: 0.25em;\n",
       "  box-sizing: border-box;\n",
       "  margin-bottom: 0.5em;\n",
       "  /* unfitted */\n",
       "  background-color: var(--sklearn-color-unfitted-level-0);\n",
       "}\n",
       "\n",
       "#sk-container-id-1 div.sk-estimator.fitted {\n",
       "  /* fitted */\n",
       "  background-color: var(--sklearn-color-fitted-level-0);\n",
       "}\n",
       "\n",
       "/* on hover */\n",
       "#sk-container-id-1 div.sk-estimator:hover {\n",
       "  /* unfitted */\n",
       "  background-color: var(--sklearn-color-unfitted-level-2);\n",
       "}\n",
       "\n",
       "#sk-container-id-1 div.sk-estimator.fitted:hover {\n",
       "  /* fitted */\n",
       "  background-color: var(--sklearn-color-fitted-level-2);\n",
       "}\n",
       "\n",
       "/* Specification for estimator info (e.g. \"i\" and \"?\") */\n",
       "\n",
       "/* Common style for \"i\" and \"?\" */\n",
       "\n",
       ".sk-estimator-doc-link,\n",
       "a:link.sk-estimator-doc-link,\n",
       "a:visited.sk-estimator-doc-link {\n",
       "  float: right;\n",
       "  font-size: smaller;\n",
       "  line-height: 1em;\n",
       "  font-family: monospace;\n",
       "  background-color: var(--sklearn-color-background);\n",
       "  border-radius: 1em;\n",
       "  height: 1em;\n",
       "  width: 1em;\n",
       "  text-decoration: none !important;\n",
       "  margin-left: 1ex;\n",
       "  /* unfitted */\n",
       "  border: var(--sklearn-color-unfitted-level-1) 1pt solid;\n",
       "  color: var(--sklearn-color-unfitted-level-1);\n",
       "}\n",
       "\n",
       ".sk-estimator-doc-link.fitted,\n",
       "a:link.sk-estimator-doc-link.fitted,\n",
       "a:visited.sk-estimator-doc-link.fitted {\n",
       "  /* fitted */\n",
       "  border: var(--sklearn-color-fitted-level-1) 1pt solid;\n",
       "  color: var(--sklearn-color-fitted-level-1);\n",
       "}\n",
       "\n",
       "/* On hover */\n",
       "div.sk-estimator:hover .sk-estimator-doc-link:hover,\n",
       ".sk-estimator-doc-link:hover,\n",
       "div.sk-label-container:hover .sk-estimator-doc-link:hover,\n",
       ".sk-estimator-doc-link:hover {\n",
       "  /* unfitted */\n",
       "  background-color: var(--sklearn-color-unfitted-level-3);\n",
       "  color: var(--sklearn-color-background);\n",
       "  text-decoration: none;\n",
       "}\n",
       "\n",
       "div.sk-estimator.fitted:hover .sk-estimator-doc-link.fitted:hover,\n",
       ".sk-estimator-doc-link.fitted:hover,\n",
       "div.sk-label-container:hover .sk-estimator-doc-link.fitted:hover,\n",
       ".sk-estimator-doc-link.fitted:hover {\n",
       "  /* fitted */\n",
       "  background-color: var(--sklearn-color-fitted-level-3);\n",
       "  color: var(--sklearn-color-background);\n",
       "  text-decoration: none;\n",
       "}\n",
       "\n",
       "/* Span, style for the box shown on hovering the info icon */\n",
       ".sk-estimator-doc-link span {\n",
       "  display: none;\n",
       "  z-index: 9999;\n",
       "  position: relative;\n",
       "  font-weight: normal;\n",
       "  right: .2ex;\n",
       "  padding: .5ex;\n",
       "  margin: .5ex;\n",
       "  width: min-content;\n",
       "  min-width: 20ex;\n",
       "  max-width: 50ex;\n",
       "  color: var(--sklearn-color-text);\n",
       "  box-shadow: 2pt 2pt 4pt #999;\n",
       "  /* unfitted */\n",
       "  background: var(--sklearn-color-unfitted-level-0);\n",
       "  border: .5pt solid var(--sklearn-color-unfitted-level-3);\n",
       "}\n",
       "\n",
       ".sk-estimator-doc-link.fitted span {\n",
       "  /* fitted */\n",
       "  background: var(--sklearn-color-fitted-level-0);\n",
       "  border: var(--sklearn-color-fitted-level-3);\n",
       "}\n",
       "\n",
       ".sk-estimator-doc-link:hover span {\n",
       "  display: block;\n",
       "}\n",
       "\n",
       "/* \"?\"-specific style due to the `<a>` HTML tag */\n",
       "\n",
       "#sk-container-id-1 a.estimator_doc_link {\n",
       "  float: right;\n",
       "  font-size: 1rem;\n",
       "  line-height: 1em;\n",
       "  font-family: monospace;\n",
       "  background-color: var(--sklearn-color-background);\n",
       "  border-radius: 1rem;\n",
       "  height: 1rem;\n",
       "  width: 1rem;\n",
       "  text-decoration: none;\n",
       "  /* unfitted */\n",
       "  color: var(--sklearn-color-unfitted-level-1);\n",
       "  border: var(--sklearn-color-unfitted-level-1) 1pt solid;\n",
       "}\n",
       "\n",
       "#sk-container-id-1 a.estimator_doc_link.fitted {\n",
       "  /* fitted */\n",
       "  border: var(--sklearn-color-fitted-level-1) 1pt solid;\n",
       "  color: var(--sklearn-color-fitted-level-1);\n",
       "}\n",
       "\n",
       "/* On hover */\n",
       "#sk-container-id-1 a.estimator_doc_link:hover {\n",
       "  /* unfitted */\n",
       "  background-color: var(--sklearn-color-unfitted-level-3);\n",
       "  color: var(--sklearn-color-background);\n",
       "  text-decoration: none;\n",
       "}\n",
       "\n",
       "#sk-container-id-1 a.estimator_doc_link.fitted:hover {\n",
       "  /* fitted */\n",
       "  background-color: var(--sklearn-color-fitted-level-3);\n",
       "}\n",
       "</style><div id=\"sk-container-id-1\" class=\"sk-top-container\"><div class=\"sk-text-repr-fallback\"><pre>GridSearchCV(cv=5,\n",
       "             estimator=Pipeline(steps=[(&#x27;smote&#x27;, SMOTE(random_state=42)),\n",
       "                                       (&#x27;preprocessor&#x27;,\n",
       "                                        ColumnTransformer(transformers=[(&#x27;num&#x27;,\n",
       "                                                                         Pipeline(steps=[(&#x27;dynamic_scaler&#x27;,\n",
       "                                                                                          DynamicScaler())]),\n",
       "                                                                         [&#x27;CreditScore&#x27;,\n",
       "                                                                          &#x27;Age&#x27;,\n",
       "                                                                          &#x27;Balance&#x27;,\n",
       "                                                                          &#x27;NumOfProducts&#x27;]),\n",
       "                                                                        (&#x27;cat&#x27;,\n",
       "                                                                         FunctionTransformer(func=&lt;function &lt;lambda&gt; at 0x0000026AE49B6F70&gt;),\n",
       "                                                                         [&#x27;Geography&#x27;]),\n",
       "                                                                        (&#x27;binary&#x27;,\n",
       "                                                                         &#x27;passthrough&#x27;,\n",
       "                                                                         [&#x27;IsA...\n",
       "                                                      multi_strategy=None,\n",
       "                                                      n_estimators=None,\n",
       "                                                      n_jobs=None,\n",
       "                                                      num_parallel_tree=None,\n",
       "                                                      random_state=42, ...))]),\n",
       "             n_jobs=-1,\n",
       "             param_grid={&#x27;classifier__colsample_bytree&#x27;: [0.8, 1.0],\n",
       "                         &#x27;classifier__learning_rate&#x27;: [0.01, 0.1, 0.2],\n",
       "                         &#x27;classifier__max_depth&#x27;: [3, 4, 5],\n",
       "                         &#x27;classifier__n_estimators&#x27;: [100, 200],\n",
       "                         &#x27;classifier__subsample&#x27;: [0.8, 1.0]},\n",
       "             scoring=make_scorer(f1_score, response_method=&#x27;predict&#x27;))</pre><b>In a Jupyter environment, please rerun this cell to show the HTML representation or trust the notebook. <br />On GitHub, the HTML representation is unable to render, please try loading this page with nbviewer.org.</b></div><div class=\"sk-container\" hidden><div class=\"sk-item sk-dashed-wrapped\"><div class=\"sk-label-container\"><div class=\"sk-label fitted sk-toggleable\"><input class=\"sk-toggleable__control sk-hidden--visually\" id=\"sk-estimator-id-1\" type=\"checkbox\" ><label for=\"sk-estimator-id-1\" class=\"sk-toggleable__label fitted sk-toggleable__label-arrow fitted\">&nbsp;&nbsp;GridSearchCV<a class=\"sk-estimator-doc-link fitted\" rel=\"noreferrer\" target=\"_blank\" href=\"https://scikit-learn.org/1.5/modules/generated/sklearn.model_selection.GridSearchCV.html\">?<span>Documentation for GridSearchCV</span></a><span class=\"sk-estimator-doc-link fitted\">i<span>Fitted</span></span></label><div class=\"sk-toggleable__content fitted\"><pre>GridSearchCV(cv=5,\n",
       "             estimator=Pipeline(steps=[(&#x27;smote&#x27;, SMOTE(random_state=42)),\n",
       "                                       (&#x27;preprocessor&#x27;,\n",
       "                                        ColumnTransformer(transformers=[(&#x27;num&#x27;,\n",
       "                                                                         Pipeline(steps=[(&#x27;dynamic_scaler&#x27;,\n",
       "                                                                                          DynamicScaler())]),\n",
       "                                                                         [&#x27;CreditScore&#x27;,\n",
       "                                                                          &#x27;Age&#x27;,\n",
       "                                                                          &#x27;Balance&#x27;,\n",
       "                                                                          &#x27;NumOfProducts&#x27;]),\n",
       "                                                                        (&#x27;cat&#x27;,\n",
       "                                                                         FunctionTransformer(func=&lt;function &lt;lambda&gt; at 0x0000026AE49B6F70&gt;),\n",
       "                                                                         [&#x27;Geography&#x27;]),\n",
       "                                                                        (&#x27;binary&#x27;,\n",
       "                                                                         &#x27;passthrough&#x27;,\n",
       "                                                                         [&#x27;IsA...\n",
       "                                                      multi_strategy=None,\n",
       "                                                      n_estimators=None,\n",
       "                                                      n_jobs=None,\n",
       "                                                      num_parallel_tree=None,\n",
       "                                                      random_state=42, ...))]),\n",
       "             n_jobs=-1,\n",
       "             param_grid={&#x27;classifier__colsample_bytree&#x27;: [0.8, 1.0],\n",
       "                         &#x27;classifier__learning_rate&#x27;: [0.01, 0.1, 0.2],\n",
       "                         &#x27;classifier__max_depth&#x27;: [3, 4, 5],\n",
       "                         &#x27;classifier__n_estimators&#x27;: [100, 200],\n",
       "                         &#x27;classifier__subsample&#x27;: [0.8, 1.0]},\n",
       "             scoring=make_scorer(f1_score, response_method=&#x27;predict&#x27;))</pre></div> </div></div><div class=\"sk-parallel\"><div class=\"sk-parallel-item\"><div class=\"sk-item\"><div class=\"sk-label-container\"><div class=\"sk-label fitted sk-toggleable\"><input class=\"sk-toggleable__control sk-hidden--visually\" id=\"sk-estimator-id-2\" type=\"checkbox\" ><label for=\"sk-estimator-id-2\" class=\"sk-toggleable__label fitted sk-toggleable__label-arrow fitted\">best_estimator_: Pipeline</label><div class=\"sk-toggleable__content fitted\"><pre>Pipeline(steps=[(&#x27;smote&#x27;, SMOTE(random_state=42)),\n",
       "                (&#x27;preprocessor&#x27;,\n",
       "                 ColumnTransformer(transformers=[(&#x27;num&#x27;,\n",
       "                                                  Pipeline(steps=[(&#x27;dynamic_scaler&#x27;,\n",
       "                                                                   DynamicScaler())]),\n",
       "                                                  [&#x27;CreditScore&#x27;, &#x27;Age&#x27;,\n",
       "                                                   &#x27;Balance&#x27;,\n",
       "                                                   &#x27;NumOfProducts&#x27;]),\n",
       "                                                 (&#x27;cat&#x27;,\n",
       "                                                  FunctionTransformer(func=&lt;function &lt;lambda&gt; at 0x0000026AE49B6F70&gt;),\n",
       "                                                  [&#x27;Geography&#x27;]),\n",
       "                                                 (&#x27;binary&#x27;, &#x27;passthrough&#x27;,\n",
       "                                                  [&#x27;IsActiveMember&#x27;])])),\n",
       "                (&#x27;classifi...\n",
       "                               feature_types=None, gamma=None, grow_policy=None,\n",
       "                               importance_type=None,\n",
       "                               interaction_constraints=None, learning_rate=0.1,\n",
       "                               max_bin=None, max_cat_threshold=None,\n",
       "                               max_cat_to_onehot=None, max_delta_step=None,\n",
       "                               max_depth=4, max_leaves=None,\n",
       "                               min_child_weight=None, missing=nan,\n",
       "                               monotone_constraints=None, multi_strategy=None,\n",
       "                               n_estimators=200, n_jobs=None,\n",
       "                               num_parallel_tree=None, random_state=42, ...))])</pre></div> </div></div><div class=\"sk-serial\"><div class=\"sk-item\"><div class=\"sk-serial\"><div class=\"sk-item\"><div class=\"sk-estimator fitted sk-toggleable\"><input class=\"sk-toggleable__control sk-hidden--visually\" id=\"sk-estimator-id-3\" type=\"checkbox\" ><label for=\"sk-estimator-id-3\" class=\"sk-toggleable__label fitted sk-toggleable__label-arrow fitted\">SMOTE</label><div class=\"sk-toggleable__content fitted\"><pre>SMOTE(random_state=42)</pre></div> </div></div><div class=\"sk-item sk-dashed-wrapped\"><div class=\"sk-label-container\"><div class=\"sk-label fitted sk-toggleable\"><input class=\"sk-toggleable__control sk-hidden--visually\" id=\"sk-estimator-id-4\" type=\"checkbox\" ><label for=\"sk-estimator-id-4\" class=\"sk-toggleable__label fitted sk-toggleable__label-arrow fitted\">&nbsp;preprocessor: ColumnTransformer<a class=\"sk-estimator-doc-link fitted\" rel=\"noreferrer\" target=\"_blank\" href=\"https://scikit-learn.org/1.5/modules/generated/sklearn.compose.ColumnTransformer.html\">?<span>Documentation for preprocessor: ColumnTransformer</span></a></label><div class=\"sk-toggleable__content fitted\"><pre>ColumnTransformer(transformers=[(&#x27;num&#x27;,\n",
       "                                 Pipeline(steps=[(&#x27;dynamic_scaler&#x27;,\n",
       "                                                  DynamicScaler())]),\n",
       "                                 [&#x27;CreditScore&#x27;, &#x27;Age&#x27;, &#x27;Balance&#x27;,\n",
       "                                  &#x27;NumOfProducts&#x27;]),\n",
       "                                (&#x27;cat&#x27;,\n",
       "                                 FunctionTransformer(func=&lt;function &lt;lambda&gt; at 0x0000026AE49B6F70&gt;),\n",
       "                                 [&#x27;Geography&#x27;]),\n",
       "                                (&#x27;binary&#x27;, &#x27;passthrough&#x27;, [&#x27;IsActiveMember&#x27;])])</pre></div> </div></div><div class=\"sk-parallel\"><div class=\"sk-parallel-item\"><div class=\"sk-item\"><div class=\"sk-label-container\"><div class=\"sk-label fitted sk-toggleable\"><input class=\"sk-toggleable__control sk-hidden--visually\" id=\"sk-estimator-id-5\" type=\"checkbox\" ><label for=\"sk-estimator-id-5\" class=\"sk-toggleable__label fitted sk-toggleable__label-arrow fitted\">num</label><div class=\"sk-toggleable__content fitted\"><pre>[&#x27;CreditScore&#x27;, &#x27;Age&#x27;, &#x27;Balance&#x27;, &#x27;NumOfProducts&#x27;]</pre></div> </div></div><div class=\"sk-serial\"><div class=\"sk-item\"><div class=\"sk-serial\"><div class=\"sk-item\"><div class=\"sk-estimator fitted sk-toggleable\"><input class=\"sk-toggleable__control sk-hidden--visually\" id=\"sk-estimator-id-6\" type=\"checkbox\" ><label for=\"sk-estimator-id-6\" class=\"sk-toggleable__label fitted sk-toggleable__label-arrow fitted\">DynamicScaler</label><div class=\"sk-toggleable__content fitted\"><pre>DynamicScaler()</pre></div> </div></div></div></div></div></div></div><div class=\"sk-parallel-item\"><div class=\"sk-item\"><div class=\"sk-label-container\"><div class=\"sk-label fitted sk-toggleable\"><input class=\"sk-toggleable__control sk-hidden--visually\" id=\"sk-estimator-id-7\" type=\"checkbox\" ><label for=\"sk-estimator-id-7\" class=\"sk-toggleable__label fitted sk-toggleable__label-arrow fitted\">cat</label><div class=\"sk-toggleable__content fitted\"><pre>[&#x27;Geography&#x27;]</pre></div> </div></div><div class=\"sk-serial\"><div class=\"sk-item\"><div class=\"sk-estimator fitted sk-toggleable\"><input class=\"sk-toggleable__control sk-hidden--visually\" id=\"sk-estimator-id-8\" type=\"checkbox\" ><label for=\"sk-estimator-id-8\" class=\"sk-toggleable__label fitted sk-toggleable__label-arrow fitted\">&nbsp;FunctionTransformer<a class=\"sk-estimator-doc-link fitted\" rel=\"noreferrer\" target=\"_blank\" href=\"https://scikit-learn.org/1.5/modules/generated/sklearn.preprocessing.FunctionTransformer.html\">?<span>Documentation for FunctionTransformer</span></a></label><div class=\"sk-toggleable__content fitted\"><pre>FunctionTransformer(func=&lt;function &lt;lambda&gt; at 0x0000026AE49B6F70&gt;)</pre></div> </div></div></div></div></div><div class=\"sk-parallel-item\"><div class=\"sk-item\"><div class=\"sk-label-container\"><div class=\"sk-label fitted sk-toggleable\"><input class=\"sk-toggleable__control sk-hidden--visually\" id=\"sk-estimator-id-9\" type=\"checkbox\" ><label for=\"sk-estimator-id-9\" class=\"sk-toggleable__label fitted sk-toggleable__label-arrow fitted\">binary</label><div class=\"sk-toggleable__content fitted\"><pre>[&#x27;IsActiveMember&#x27;]</pre></div> </div></div><div class=\"sk-serial\"><div class=\"sk-item\"><div class=\"sk-estimator fitted sk-toggleable\"><input class=\"sk-toggleable__control sk-hidden--visually\" id=\"sk-estimator-id-10\" type=\"checkbox\" ><label for=\"sk-estimator-id-10\" class=\"sk-toggleable__label fitted sk-toggleable__label-arrow fitted\">passthrough</label><div class=\"sk-toggleable__content fitted\"><pre>passthrough</pre></div> </div></div></div></div></div></div></div><div class=\"sk-item\"><div class=\"sk-estimator fitted sk-toggleable\"><input class=\"sk-toggleable__control sk-hidden--visually\" id=\"sk-estimator-id-11\" type=\"checkbox\" ><label for=\"sk-estimator-id-11\" class=\"sk-toggleable__label fitted sk-toggleable__label-arrow fitted\">XGBClassifier</label><div class=\"sk-toggleable__content fitted\"><pre>XGBClassifier(base_score=None, booster=None, callbacks=None,\n",
       "              colsample_bylevel=None, colsample_bynode=None,\n",
       "              colsample_bytree=1.0, device=None, early_stopping_rounds=None,\n",
       "              enable_categorical=False, eval_metric=&#x27;mlogloss&#x27;,\n",
       "              feature_types=None, gamma=None, grow_policy=None,\n",
       "              importance_type=None, interaction_constraints=None,\n",
       "              learning_rate=0.1, max_bin=None, max_cat_threshold=None,\n",
       "              max_cat_to_onehot=None, max_delta_step=None, max_depth=4,\n",
       "              max_leaves=None, min_child_weight=None, missing=nan,\n",
       "              monotone_constraints=None, multi_strategy=None, n_estimators=200,\n",
       "              n_jobs=None, num_parallel_tree=None, random_state=42, ...)</pre></div> </div></div></div></div></div></div></div></div></div></div></div>"
      ],
      "text/plain": [
       "GridSearchCV(cv=5,\n",
       "             estimator=Pipeline(steps=[('smote', SMOTE(random_state=42)),\n",
       "                                       ('preprocessor',\n",
       "                                        ColumnTransformer(transformers=[('num',\n",
       "                                                                         Pipeline(steps=[('dynamic_scaler',\n",
       "                                                                                          DynamicScaler())]),\n",
       "                                                                         ['CreditScore',\n",
       "                                                                          'Age',\n",
       "                                                                          'Balance',\n",
       "                                                                          'NumOfProducts']),\n",
       "                                                                        ('cat',\n",
       "                                                                         FunctionTransformer(func=<function <lambda> at 0x0000026AE49B6F70>),\n",
       "                                                                         ['Geography']),\n",
       "                                                                        ('binary',\n",
       "                                                                         'passthrough',\n",
       "                                                                         ['IsA...\n",
       "                                                      multi_strategy=None,\n",
       "                                                      n_estimators=None,\n",
       "                                                      n_jobs=None,\n",
       "                                                      num_parallel_tree=None,\n",
       "                                                      random_state=42, ...))]),\n",
       "             n_jobs=-1,\n",
       "             param_grid={'classifier__colsample_bytree': [0.8, 1.0],\n",
       "                         'classifier__learning_rate': [0.01, 0.1, 0.2],\n",
       "                         'classifier__max_depth': [3, 4, 5],\n",
       "                         'classifier__n_estimators': [100, 200],\n",
       "                         'classifier__subsample': [0.8, 1.0]},\n",
       "             scoring=make_scorer(f1_score, response_method='predict'))"
      ]
     },
     "execution_count": 49,
     "metadata": {},
     "output_type": "execute_result"
    }
   ],
   "source": [
    "# Fit the pipeline with SMOTE and GridSearchCV\n",
    "grid_search_smote.fit(X_train_selected, y_train)"
   ]
  },
  {
   "attachments": {},
   "cell_type": "markdown",
   "metadata": {},
   "source": [
    "The best hyperparameters from GridSearchCV are retrieved, and the optimized model is used to make predictions on the test data."
   ]
  },
  {
   "cell_type": "code",
   "execution_count": 50,
   "metadata": {},
   "outputs": [
    {
     "name": "stdout",
     "output_type": "stream",
     "text": [
      "Best Parameters: {'classifier__colsample_bytree': 1.0, 'classifier__learning_rate': 0.1, 'classifier__max_depth': 4, 'classifier__n_estimators': 200, 'classifier__subsample': 0.8}\n"
     ]
    }
   ],
   "source": [
    "# Get the best parameters and estimator\n",
    "best_params = grid_search_smote.best_params_\n",
    "print(f\"Best Parameters: {best_params}\")\n",
    "\n",
    "# Predict on the test data\n",
    "y_test_pred = grid_search_smote.best_estimator_.predict(X_test_selected)"
   ]
  },
  {
   "attachments": {},
   "cell_type": "markdown",
   "metadata": {},
   "source": [
    "The model's performance on the training data is evaluated after applying SMOTE and hyperparameter tuning, showing accuracy, F1-score, confusion matrix, and a detailed classification report."
   ]
  },
  {
   "cell_type": "code",
   "execution_count": 51,
   "metadata": {},
   "outputs": [
    {
     "name": "stdout",
     "output_type": "stream",
     "text": [
      "Train Metrics After SMOTE and Hyperparameter Tuning:\n",
      "Accuracy: 0.9290\n",
      "F1-Score: 0.8056\n",
      "Confusion Matrix (Train):\n",
      "[[6255  101]\n",
      " [ 467 1177]]\n",
      "              precision    recall  f1-score   support\n",
      "\n",
      "           0       0.93      0.98      0.96      6356\n",
      "           1       0.92      0.72      0.81      1644\n",
      "\n",
      "    accuracy                           0.93      8000\n",
      "   macro avg       0.93      0.85      0.88      8000\n",
      "weighted avg       0.93      0.93      0.93      8000\n",
      "\n"
     ]
    }
   ],
   "source": [
    "# Metrics for Train Data\n",
    "train_accuracy = accuracy_score(y_train, y_train_pred)\n",
    "train_f1 = f1_score(y_train, y_train_pred)\n",
    "print(\"Train Metrics After SMOTE and Hyperparameter Tuning:\")\n",
    "print(f\"Accuracy: {train_accuracy:.4f}\")\n",
    "print(f\"F1-Score: {train_f1:.4f}\")\n",
    "print(\"Confusion Matrix (Train):\")\n",
    "print(confusion_matrix(y_train, y_train_pred))\n",
    "print(classification_report(y_train, y_train_pred))"
   ]
  },
  {
   "attachments": {},
   "cell_type": "markdown",
   "metadata": {},
   "source": [
    "The same evaluation also done for the testing data."
   ]
  },
  {
   "cell_type": "code",
   "execution_count": 52,
   "metadata": {},
   "outputs": [
    {
     "name": "stdout",
     "output_type": "stream",
     "text": [
      "Test Metrics After SMOTE and Hyperparameter Tuning:\n",
      "Accuracy: 0.8145\n",
      "F1-Score: 0.6049\n",
      "Confusion Matrix (Test):\n",
      "[[1345  262]\n",
      " [ 109  284]]\n",
      "              precision    recall  f1-score   support\n",
      "\n",
      "           0       0.93      0.84      0.88      1607\n",
      "           1       0.52      0.72      0.60       393\n",
      "\n",
      "    accuracy                           0.81      2000\n",
      "   macro avg       0.72      0.78      0.74      2000\n",
      "weighted avg       0.85      0.81      0.82      2000\n",
      "\n"
     ]
    }
   ],
   "source": [
    "# Metrics for Test Data\n",
    "test_accuracy = accuracy_score(y_test, y_test_pred)\n",
    "test_f1 = f1_score(y_test, y_test_pred)\n",
    "print(\"Test Metrics After SMOTE and Hyperparameter Tuning:\")\n",
    "print(f\"Accuracy: {test_accuracy:.4f}\")\n",
    "print(f\"F1-Score: {test_f1:.4f}\")\n",
    "print(\"Confusion Matrix (Test):\")\n",
    "print(confusion_matrix(y_test, y_test_pred))\n",
    "print(classification_report(y_test, y_test_pred))"
   ]
  },
  {
   "attachments": {},
   "cell_type": "markdown",
   "metadata": {},
   "source": [
    "After applying SMOTE and hyperparameter tuning to XGBoost model, we got that:\n",
    "- In training data:\n",
    "    - F1-Score (0.8056): The model performs well on the training data, with a strong balance between precision and recall for both classes.\n",
    "    - Class 0 (Non-Churn): High precision and recall indicate the model effectively predicts non-churn customers.\n",
    "    - Class 1 (Churn): Lower recall (0.72) compared to precision (0.92) suggests the model struggles slightly to identify all churn cases.\n",
    "- In test data:\n",
    "    - F1-Score (0.6049): The test F1-score is significantly lower than the training F1-score, indicating some overfitting (but, i can say it a good fit though).\n",
    "    - Class 0 (Non-Churn): The model maintains high precision (0.93) but slightly lower recall (0.84), showing reliability in identifying non-churn customers.\n",
    "    - Class 1 (Churn): Recall (0.72) for churn cases on the test set improves compared to precision (0.52), suggesting better identification of churners, albeit with some false positives.\n",
    "\n",
    "BEFORE VS AFTER SMOTE AND HYPERPARAMETER TUNING WITH XGBOOST:\n",
    "- BEFORE: The training F1-score (0.8056) indicates the model performed well on the training data. The test F1-score (0.5961) shows a significant drop, suggesting overfitting, where the model struggles to generalize well to unseen data.\n",
    "- AFTER: Training F1-score remains the same (0.8056), indicating that oversampling and hyperparameter optimization did not compromise performance on the training data. The test F1-score improves slightly to 0.6049, showing better generalization to the test set. However, the improvement is modest, and the performance gap between training and test scores remains.\n",
    "- While SMOTE addresses class imbalance by improving the model's ability to identify churn cases (Class 1), the improvement is limited.\n",
    "- The F1-score increase on the test data (from 0.5961 to 0.6049) suggests a slight improvement in balancing precision and recall for churn predictions.\n",
    "- The class imbalance and limited improvement highlight the challenge of predicting churn accurately\n",
    "\n",
    "> In conclusion, while the overall improvements are small after hyperparameter tuning, they are still valuable in churn prediction. The insights can guide retention strategies but should be combined with other customer insights for better targeting.\n"
   ]
  },
  {
   "attachments": {},
   "cell_type": "markdown",
   "metadata": {},
   "source": [
    "> **Other benefits from the model:** SMOTE effectively balances the dataset, ensuring the model learns patterns for minority class (churn cases), reducing bias towards the majority class (non-churn). The test F1-score improved slightly after tuning (from 0.5961 to 0.6049), indicating better generalization in identifying churn cases."
   ]
  },
  {
   "attachments": {},
   "cell_type": "markdown",
   "metadata": {},
   "source": [
    ">**Other benefits from the model:** XGBoost inherently handles multicollinearity, missing values, and outliers well, which aligns with the business goal of churn prediction. Hyperparameter tuning optimizes the model's parameters, improving its ability to handle complex patterns in the data effectively."
   ]
  },
  {
   "attachments": {},
   "cell_type": "markdown",
   "metadata": {},
   "source": [
    "> **The limitation from this model:** Despite SMOTE and tuning, the increase in test F1-score was marginal. This suggests that further optimization or advanced techniques might be required."
   ]
  },
  {
   "attachments": {},
   "cell_type": "markdown",
   "metadata": {},
   "source": [
    "> **Disadvantage of this model:** Prioritizing the F1-score might lead to trade-offs in other metrics like precision or recall, which could impact specific business goals. SMOTE generates synthetic data, which might not perfectly represent real-world customer behavior, potentially introducing noise into the dataset."
   ]
  },
  {
   "attachments": {},
   "cell_type": "markdown",
   "metadata": {},
   "source": [
    "### ix. MODEL SAVING"
   ]
  },
  {
   "attachments": {},
   "cell_type": "markdown",
   "metadata": {},
   "source": [
    "In this section, we saves the full pipeline (including preprocessing steps and the best XGBoost model) into a file using cloudpickle. It also stores the model's best parameters and type in a JSON file for reference.\n",
    "- Combines preprocessing and the best-tuned XGBoost model into a single pipeline and saves it as xgboost_smote_pipeline.pkl\n",
    "- Saves the best parameters and model type in xgboost_model_info.json"
   ]
  },
  {
   "cell_type": "code",
   "execution_count": 53,
   "metadata": {},
   "outputs": [
    {
     "name": "stdout",
     "output_type": "stream",
     "text": [
      "Model saved at xgboost_smote_pipeline.pkl\n",
      "Model information saved at xgboost_model_info.json\n"
     ]
    }
   ],
   "source": [
    "# Define the file paths for saving\n",
    "model_save_path = \"xgboost_smote_pipeline.pkl\"\n",
    "model_info_path = \"xgboost_model_info.json\"\n",
    "\n",
    "# Save the full pipeline (preprocessing + SMOTE + best model)\n",
    "with open(model_save_path, 'wb') as model_file:\n",
    "    cloudpickle.dump(grid_search_smote.best_estimator_, model_file)\n",
    "\n",
    "# Save model information such as best parameters and performance metrics\n",
    "model_info = {\n",
    "    'best_parameters': best_params,  # Best parameters from GridSearchCV\n",
    "    'train_accuracy': train_accuracy,\n",
    "    'train_f1': train_f1,\n",
    "    'test_accuracy': test_accuracy,\n",
    "    'test_f1': test_f1,\n",
    "    'model_type': 'XGBoost with SMOTE'\n",
    "}\n",
    "\n",
    "# Save model information in JSON format\n",
    "with open(model_info_path, 'w') as info_file:\n",
    "    json.dump(model_info, info_file)\n",
    "\n",
    "print(f\"Model saved at {model_save_path}\")\n",
    "print(f\"Model information saved at {model_info_path}\")"
   ]
  },
  {
   "attachments": {},
   "cell_type": "markdown",
   "metadata": {},
   "source": [
    ">**Other benefit of using this model:** A pipeline that includes preprocessing and models makes deployment easy, allowing teams to automatically predict on new data without additional steps. We can see the full pipeline from the model in the code at the first line that combine preprocessing and model into a single pipeline."
   ]
  },
  {
   "attachments": {},
   "cell_type": "markdown",
   "metadata": {},
   "source": [
    "The model-saving step has been successfully executed. From the file we are saving, it allows us to directly use the pipeline for inference or predictions on new data without separately applying preprocessing. The .pkl file containts preprocessing steps (scaling, encoding, handling binary features) and the best-tuned XGBoost model. The .json file containts useful documentation for sharing with stakeholders or revisiting the process later.\n",
    "\n"
   ]
  },
  {
   "attachments": {},
   "cell_type": "markdown",
   "metadata": {},
   "source": [
    "### x. MODEL INFERENCE"
   ]
  },
  {
   "attachments": {},
   "cell_type": "markdown",
   "metadata": {},
   "source": [
    "I have successfully applied a trained model to make predictions about customer churn based on features provided in the dataset. The model was built and trained using various classifiers, and we used the entire preprocessing pipeline (including scaling, encoding, and imputation) along with the trained model to predict whether a customer is likely to churn or not. From two data_inf I use to test the model inference to predict the churn of customer, the model's prediction results are binary: either the customer is predicted to churn (1) or not (0). In this case, the churn prediction is useful for customer retention strategies. For Customer 1, the model predicts they will stay (No Churn), while Customer 2 is predicted to leave (Churn)."
   ]
  },
  {
   "attachments": {},
   "cell_type": "markdown",
   "metadata": {},
   "source": [
    "### xi. SUMMARY"
   ]
  },
  {
   "attachments": {},
   "cell_type": "markdown",
   "metadata": {},
   "source": [
    "Improvement for the model:\n",
    "- Add features like customer satisfaction scores, customer feedback, or recent activity trends to capture more business context.\n",
    "- Test the model on data from different time periods to ensure generalizability in the face of changing customer behavior.\n",
    "- Use more advanced resampling techniques to generate synthetic data closer to the real distribution or to eliminate noise and borderline cases.\n",
    "- Explore techniques like threshold adjustments to improve recall for the positive class. Analyze the ROC curve to find the optimal threshold for maximizing recall while balancing false positives.\n",
    "\n",
    "> By implementing these improvements, the churn prediction model can achieve higher accuracy, better generalization, and actionable insights, helping the bank target at-risk customers more effectively and improve retention strategies."
   ]
  },
  {
   "attachments": {},
   "cell_type": "markdown",
   "metadata": {},
   "source": [
    "The machine learning model built, particularly the tuned XGBoost model, has successfully achieved the objectives outlined in the introduction. Here's how it aligns with the stated goals:\n",
    "- The objectives of building an effective machine learning model to predict customer churn and enabling early interventions were successfully addressed. Among the five models (KNN, SVC, Decision Tree, Random Forest, and XGBoost), XGBoost with SMOTE and hyperparameter tuning demonstrated the best balance between precision and recall, achieving a Test F1-Score of 0.605.\n",
    "\n",
    "- The use of the F1 Score as the primary evaluation metric effectively captured the model's ability to balance false positives and false negatives, crucial for handling the dataset's imbalance. Cross-validation ensured model robustness, with stable performance across folds.\n",
    "\n",
    "- The application of SMOTE improved class balance, helping the model better identify churn cases. Additionally, GridSearchCV optimized XGBoost hyperparameters, further enhancing recall without overly sacrificing precision.\n",
    "\n",
    "- These results align with the objective of equipping bank management, marketing teams, and analysts with actionable insights to proactively target at-risk customers, improve retention strategies, and reduce financial losses from customer churn. Further improvements can focus on fine-tuning recall for identifying more churners while balancing resource allocation."
   ]
  },
  {
   "attachments": {},
   "cell_type": "markdown",
   "metadata": {},
   "source": [
    "### xii. CONCEPTUAL PROBLEM"
   ]
  },
  {
   "attachments": {},
   "cell_type": "markdown",
   "metadata": {},
   "source": [
    "#### 1. Explain the background of bagging and how bagging works!\n",
    "Bagging stands for Bootstrap Aggregating, a technique used to improve the performance of machine learning models by reducing their variance and overfitting. The main goal of bagging is to increase the stability and accuracy of a machine learning model, particularly for algorithms that have high variance, such as decision trees.\n",
    "\n",
    "How Bagging Works:\n",
    "- Create Random Subsets: From the original dataset, create several random subsets of the data (with replacement). This means some data points appear more than once, while others may not appear at all.\n",
    "- Then, Train Models on Subsets: Each subset of data trains its own model (like a decision tree). These models learn slightly different patterns because they see different data.\n",
    "- Continued with Combine Predictions: For classification, the final prediction is based on a majority vote from all models. For regression, the predictions are averaged.\n",
    "- Lastly, Reduce Overfitting: By combining predictions from different models, bagging helps reduce overfitting and makes the final prediction more reliable."
   ]
  },
  {
   "attachments": {},
   "cell_type": "markdown",
   "metadata": {},
   "source": [
    "#### 2. Explain the difference in how the Random Forest algorithm works and the boosting algorithm you chose (XGBoosting)!\n",
    "- Random Forest builds multiple trees independently and combines predictions via voting for classification. Each tree has equal opportunity to predict without considering previous errors.\n",
    "- XGBoost builds trees sequentially and gives more weight to errors made by previous trees. Each new tree aims to correct those errors, improving the model iteratively.\n",
    "- Random Forest combines results from all trees through majority voting.\n",
    "- XGBoost corrects previous errors and combines predictions more complexly, optimizing the weight of each new tree.\n",
    "- XGBoost tends to achieve higher accuracy than Random Forest, especially on complex and varied data, as it focuses on correcting mistakes. Random Forest is more robust but doesn't focus on errors.\n",
    "- Random Forest is more resistant to overfitting, as trees are built independently, reducing the risk of focusing on specific errors. XGBoost is more prone to overfitting if not tuned properly, as each tree is built to fix previous mistakes.\n"
   ]
  },
  {
   "attachments": {},
   "cell_type": "markdown",
   "metadata": {},
   "source": [
    "#### 3. Explain what is meant by Cross Validation!\n",
    "Cross-validation is a technique used to evaluate how well a machine learning model performs on unseen data. The main goal is to ensure that the model doesn’t just perform well on the training data but also on new, unseen data that might be more representative of real-world scenarios.\n",
    "\n",
    "The process works by splitting the data into several parts (folds), usually 5 or 10. Each fold takes turns being used as the test set, while the remaining folds are used to train the model. This is repeated several times, and the evaluation results from each round are averaged. This gives a more accurate understanding of the model’s performance, rather than relying on just one random split of the data.\n",
    "\n",
    "In this case, cross-validation is used to evaluate the performance of various models like KNN, SVM, Decision Tree, Random Forest, and XGBoost using the training data (X_train and y_train). It helps to choose the best model before testing it on the test data (X_test).\n",
    "\n",
    "By using cross-validation, we get a better understanding of how stable and reliable the model is under different conditions, and it helps prevent overfitting, where a model performs exceptionally well on training data but poorly on new, unseen data."
   ]
  },
  {
   "attachments": {},
   "cell_type": "markdown",
   "metadata": {},
   "source": [
    "### xiii. DEPLOYMENT"
   ]
  },
  {
   "attachments": {},
   "cell_type": "markdown",
   "metadata": {},
   "source": [
    "It successfully deployed to huggingface. You can visit the link below:\n",
    "- url deployment = https://huggingface.co/spaces/Ntsany/Churn-BankCustomer-Prediction"
   ]
  }
 ],
 "metadata": {
  "kernelspec": {
   "display_name": "base",
   "language": "python",
   "name": "python3"
  },
  "language_info": {
   "codemirror_mode": {
    "name": "ipython",
    "version": 3
   },
   "file_extension": ".py",
   "mimetype": "text/x-python",
   "name": "python",
   "nbconvert_exporter": "python",
   "pygments_lexer": "ipython3",
   "version": "3.9.19"
  },
  "orig_nbformat": 4
 },
 "nbformat": 4,
 "nbformat_minor": 2
}
