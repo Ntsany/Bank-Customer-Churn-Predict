{
 "cells": [
  {
   "attachments": {},
   "cell_type": "markdown",
   "metadata": {},
   "source": [
    "### MODEL INFERENCE FOR CHURN BANK CUSTOMER PREDICTION\n",
    "\n",
    "Name : Nisrina Tsany Sulthanah\n",
    "\n",
    "Batch : FTDS-RMT038"
   ]
  },
  {
   "cell_type": "code",
   "execution_count": 22,
   "metadata": {},
   "outputs": [],
   "source": [
    "# Step 1: Import necessary libraries\n",
    "import cloudpickle\n",
    "import pandas as pd"
   ]
  },
  {
   "cell_type": "code",
   "execution_count": 23,
   "metadata": {},
   "outputs": [
    {
     "name": "stdout",
     "output_type": "stream",
     "text": [
      "Pipeline(steps=[('smote', SMOTE(random_state=42)),\n",
      "                ('preprocessor',\n",
      "                 ColumnTransformer(transformers=[('num',\n",
      "                                                  Pipeline(steps=[('dynamic_scaler',\n",
      "                                                                   DynamicScaler())]),\n",
      "                                                  ['CreditScore', 'Age',\n",
      "                                                   'Balance',\n",
      "                                                   'NumOfProducts']),\n",
      "                                                 ('cat',\n",
      "                                                  FunctionTransformer(func=<function <lambda> at 0x000001DA16D6CF70>),\n",
      "                                                  ['Geography']),\n",
      "                                                 ('binary', 'passthrough',\n",
      "                                                  ['IsActiveMember'])])),\n",
      "                ('classifi...\n",
      "                               feature_types=None, gamma=None, grow_policy=None,\n",
      "                               importance_type=None,\n",
      "                               interaction_constraints=None, learning_rate=0.1,\n",
      "                               max_bin=None, max_cat_threshold=None,\n",
      "                               max_cat_to_onehot=None, max_delta_step=None,\n",
      "                               max_depth=4, max_leaves=None,\n",
      "                               min_child_weight=None, missing=nan,\n",
      "                               monotone_constraints=None, multi_strategy=None,\n",
      "                               n_estimators=200, n_jobs=None,\n",
      "                               num_parallel_tree=None, random_state=42, ...))])\n"
     ]
    }
   ],
   "source": [
    "# load file pipeline of preprocessing and model from model train and saving\n",
    "with open('xgboost_smote_pipeline.pkl', 'rb') as model_file:\n",
    "    loaded_pipeline = cloudpickle.load(model_file)\n",
    "\n",
    "# Check if the pipeline is loaded successfully\n",
    "print(loaded_pipeline)"
   ]
  },
  {
   "cell_type": "code",
   "execution_count": 25,
   "metadata": {},
   "outputs": [],
   "source": [
    "# Example of new unseen data for inference \n",
    "data_inf = pd.DataFrame({\n",
    "    'RowNumber': [1, 2],  # These columns will be ignored in the preprocessing step\n",
    "    'CustomerId': [15634602, 15647311],\n",
    "    'Surname': ['Hargrave', 'Hill'],\n",
    "    'CreditScore': [600, 800],\n",
    "    'Age': [30, 45],\n",
    "    'Tenure': [3, 5],\n",
    "    'Balance': [150000, 250000],\n",
    "    'NumOfProducts': [2, 1],\n",
    "    'EstimatedSalary': [100000, 150000],\n",
    "    'Geography': ['France', 'Germany'],\n",
    "    'Gender': ['Female', 'Male'],\n",
    "    'HasCrCard': [1, 1],\n",
    "    'IsActiveMember': [1, 0]\n",
    "})\n",
    "\n",
    "data_inf_ori = data_inf.copy()"
   ]
  },
  {
   "cell_type": "code",
   "execution_count": 26,
   "metadata": {},
   "outputs": [],
   "source": [
    "# Rename column 'HasCrCard' to 'HasCreditCard' to match the training data\n",
    "data_inf.rename(columns={'HasCrCard': 'HasCreditCard'}, inplace=True)\n"
   ]
  },
  {
   "cell_type": "code",
   "execution_count": 27,
   "metadata": {},
   "outputs": [],
   "source": [
    "# Drop columns that should not be used in preprocessing (they were not part of the training data)\n",
    "data_inf_for_prediction = data_inf.drop(columns=['RowNumber', 'CustomerId', 'Surname'])\n"
   ]
  },
  {
   "cell_type": "code",
   "execution_count": 28,
   "metadata": {},
   "outputs": [],
   "source": [
    "# Retain only the columns that match the selected features during training\n",
    "selected_features = [\n",
    "    'CreditScore', 'Age', 'Balance', 'NumOfProducts',\n",
    "    'Geography', 'IsActiveMember'\n",
    "]\n",
    "data_inf_for_prediction = data_inf_for_prediction[selected_features]"
   ]
  },
  {
   "cell_type": "code",
   "execution_count": 29,
   "metadata": {},
   "outputs": [],
   "source": [
    "# Perform predictions using the pipeline\n",
    "predictions = loaded_pipeline.predict(data_inf_for_prediction)\n",
    "predictions_proba = loaded_pipeline.predict_proba(data_inf_for_prediction)[:, 1]\n"
   ]
  },
  {
   "cell_type": "code",
   "execution_count": 30,
   "metadata": {},
   "outputs": [],
   "source": [
    "# Add predictions to the original data for reference\n",
    "data_inf['Exited_Prediction'] = ['Churn' if pred == 1 else 'No Churn' for pred in predictions]\n",
    "data_inf['Churn_Probability'] = predictions_proba"
   ]
  },
  {
   "cell_type": "code",
   "execution_count": 31,
   "metadata": {},
   "outputs": [],
   "source": [
    "# Display the formatted results\n",
    "display_data = data_inf[['RowNumber', 'CustomerId', 'Surname', 'Exited_Prediction', 'Churn_Probability']]\n",
    "display_data = display_data.rename(columns={\n",
    "    'RowNumber': 'Row Number',\n",
    "    'CustomerId': 'Customer ID',\n",
    "    'Surname': 'Customer Name',\n",
    "    'Exited_Prediction': 'Churn Status',\n",
    "    'Churn_Probability': 'Churn Probability (%)'\n",
    "})\n",
    "display_data['Churn Probability (%)'] = (display_data['Churn Probability (%)'] * 100).round(2)\n",
    "\n"
   ]
  },
  {
   "cell_type": "code",
   "execution_count": 32,
   "metadata": {},
   "outputs": [
    {
     "name": "stdout",
     "output_type": "stream",
     "text": [
      "   Row Number  Customer ID Customer Name Churn Status  Churn Probability (%)\n",
      "0           1     15634602      Hargrave     No Churn               6.220000\n",
      "1           2     15647311          Hill        Churn              97.699997\n"
     ]
    }
   ],
   "source": [
    "# Show the formatted DataFrame\n",
    "print(display_data)"
   ]
  },
  {
   "attachments": {},
   "cell_type": "markdown",
   "metadata": {},
   "source": [
    "I have successfully applied a trained model to make predictions about customer churn based on features provided in the dataset. The model was built and trained using various classifiers, and we used the entire preprocessing pipeline (including scaling, encoding, and imputation) along with the trained model to predict whether a customer is likely to churn or not. From two data_inf I use to test the model inference to predict the churn of customer, the model's prediction results are binary: either the customer is predicted to churn (1) or not (0). In this case, the churn prediction is useful for customer retention strategies. For Customer 1, the model predicts they will stay (No Churn), while Customer 2 is predicted to leave (Churn). And from this prediction also display the percentage of churn probabality. Customer 1 has a very low likelihood of churning, as indicated by the churn probability of only 6.22%. The model predicts that the customer is satisfied or unlikely to leave the bank. For customer in row 2, This customer has a very high likelihood of churning, with a churn probability of 97.70%. This indicates that the customer is highly dissatisfied or likely to leave the bank soon.\n",
    "\n"
   ]
  }
 ],
 "metadata": {
  "kernelspec": {
   "display_name": "base",
   "language": "python",
   "name": "python3"
  },
  "language_info": {
   "codemirror_mode": {
    "name": "ipython",
    "version": 3
   },
   "file_extension": ".py",
   "mimetype": "text/x-python",
   "name": "python",
   "nbconvert_exporter": "python",
   "pygments_lexer": "ipython3",
   "version": "3.9.19"
  },
  "orig_nbformat": 4
 },
 "nbformat": 4,
 "nbformat_minor": 2
}
